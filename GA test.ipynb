{
 "cells": [
  {
   "cell_type": "markdown",
   "metadata": {},
   "source": [
    "# DSI Instructor Task: Part 1"
   ]
  },
  {
   "cell_type": "raw",
   "metadata": {},
   "source": [
    "https://gist.github.com/jeff-boykin/ec951ccaa1f90470b6ccc2bb1315d28a"
   ]
  },
  {
   "cell_type": "markdown",
   "metadata": {},
   "source": [
    "### Load Packages"
   ]
  },
  {
   "cell_type": "code",
   "execution_count": 64,
   "metadata": {},
   "outputs": [],
   "source": [
    "import pandas as pd\n",
    "import numpy as np\n",
    "import matplotlib.pyplot as plt\n",
    "import seaborn as sns\n",
    "from sklearn.preprocessing import LabelEncoder, StandardScaler\n",
    "from sklearn.model_selection import train_test_split\n",
    "from sklearn.linear_model import LogisticRegression\n",
    "from sklearn.neighbors import KNeighborsClassifier\n",
    "from sklearn.metrics import confusion_matrix, accuracy_score, mean_absolute_error, classification_report\n",
    "from sklearn.tree import DecisionTreeClassifier\n",
    "from sklearn.feature_selection import SelectKBest, chi2, RFE"
   ]
  },
  {
   "cell_type": "markdown",
   "metadata": {},
   "source": [
    "## Python Coding and Data Set"
   ]
  },
  {
   "cell_type": "markdown",
   "metadata": {},
   "source": [
    "### Loading the Data"
   ]
  },
  {
   "cell_type": "raw",
   "metadata": {},
   "source": [
    "The dataframe does not currently have a header, load in the header file and attach it to the dataframe"
   ]
  },
  {
   "cell_type": "code",
   "execution_count": 2,
   "metadata": {},
   "outputs": [
    {
     "name": "stdout",
     "output_type": "stream",
     "text": [
      "['ID', 'diagnosis', 'radius_mean', 'radius_sd_error', 'radius_worst', 'texture_mean', 'texture_sd_error', 'texture_worst', 'perimeter_mean', 'perimeter_sd_error', 'perimeter_worst', 'area_mean', 'area_sd_error', 'area_worst', 'smoothness_mean', 'smoothness_sd_error', 'smoothness_worst', 'compactness_mean', 'compactness_sd_error', 'compactness_worst', 'concavity_mean', 'concavity_sd_error', 'concavity_worst', 'concave_points_mean', 'concave_points_sd_error', 'concave_points_worst', 'symmetry_mean', 'symmetry_sd_error', 'symmetry_worst', 'fractal_dimension_mean', 'fractal_dimension_sd_error', 'fractal_dimension_worst']\n"
     ]
    }
   ],
   "source": [
    "# Open and read text file\n",
    "with open(\"./field_names.txt\",'r') as f:\n",
    "    header = f.read().split('\\n')\n",
    "    print(header)"
   ]
  },
  {
   "cell_type": "code",
   "execution_count": 3,
   "metadata": {},
   "outputs": [
    {
     "data": {
      "text/html": [
       "<div>\n",
       "<style scoped>\n",
       "    .dataframe tbody tr th:only-of-type {\n",
       "        vertical-align: middle;\n",
       "    }\n",
       "\n",
       "    .dataframe tbody tr th {\n",
       "        vertical-align: top;\n",
       "    }\n",
       "\n",
       "    .dataframe thead th {\n",
       "        text-align: right;\n",
       "    }\n",
       "</style>\n",
       "<table border=\"1\" class=\"dataframe\">\n",
       "  <thead>\n",
       "    <tr style=\"text-align: right;\">\n",
       "      <th></th>\n",
       "      <th>842302</th>\n",
       "      <th>M</th>\n",
       "      <th>17.99</th>\n",
       "      <th>10.38</th>\n",
       "      <th>122.8</th>\n",
       "      <th>1001</th>\n",
       "      <th>0.1184</th>\n",
       "      <th>0.2776</th>\n",
       "      <th>0.3001</th>\n",
       "      <th>0.1471</th>\n",
       "      <th>...</th>\n",
       "      <th>25.38</th>\n",
       "      <th>17.33</th>\n",
       "      <th>184.6</th>\n",
       "      <th>2019</th>\n",
       "      <th>0.1622</th>\n",
       "      <th>0.6656</th>\n",
       "      <th>0.7119</th>\n",
       "      <th>0.2654</th>\n",
       "      <th>0.4601</th>\n",
       "      <th>0.1189</th>\n",
       "    </tr>\n",
       "  </thead>\n",
       "  <tbody>\n",
       "    <tr>\n",
       "      <th>0</th>\n",
       "      <td>842517</td>\n",
       "      <td>M</td>\n",
       "      <td>20.57</td>\n",
       "      <td>17.77</td>\n",
       "      <td>132.90</td>\n",
       "      <td>1326.0</td>\n",
       "      <td>0.08474</td>\n",
       "      <td>0.07864</td>\n",
       "      <td>0.0869</td>\n",
       "      <td>0.07017</td>\n",
       "      <td>...</td>\n",
       "      <td>24.99</td>\n",
       "      <td>23.41</td>\n",
       "      <td>158.80</td>\n",
       "      <td>1956.0</td>\n",
       "      <td>0.1238</td>\n",
       "      <td>0.1866</td>\n",
       "      <td>0.2416</td>\n",
       "      <td>0.1860</td>\n",
       "      <td>0.2750</td>\n",
       "      <td>0.08902</td>\n",
       "    </tr>\n",
       "    <tr>\n",
       "      <th>1</th>\n",
       "      <td>84300903</td>\n",
       "      <td>M</td>\n",
       "      <td>19.69</td>\n",
       "      <td>21.25</td>\n",
       "      <td>130.00</td>\n",
       "      <td>1203.0</td>\n",
       "      <td>0.10960</td>\n",
       "      <td>0.15990</td>\n",
       "      <td>0.1974</td>\n",
       "      <td>0.12790</td>\n",
       "      <td>...</td>\n",
       "      <td>23.57</td>\n",
       "      <td>25.53</td>\n",
       "      <td>152.50</td>\n",
       "      <td>1709.0</td>\n",
       "      <td>0.1444</td>\n",
       "      <td>0.4245</td>\n",
       "      <td>0.4504</td>\n",
       "      <td>0.2430</td>\n",
       "      <td>0.3613</td>\n",
       "      <td>0.08758</td>\n",
       "    </tr>\n",
       "    <tr>\n",
       "      <th>2</th>\n",
       "      <td>84348301</td>\n",
       "      <td>M</td>\n",
       "      <td>11.42</td>\n",
       "      <td>20.38</td>\n",
       "      <td>77.58</td>\n",
       "      <td>386.1</td>\n",
       "      <td>0.14250</td>\n",
       "      <td>0.28390</td>\n",
       "      <td>0.2414</td>\n",
       "      <td>0.10520</td>\n",
       "      <td>...</td>\n",
       "      <td>14.91</td>\n",
       "      <td>26.50</td>\n",
       "      <td>98.87</td>\n",
       "      <td>567.7</td>\n",
       "      <td>0.2098</td>\n",
       "      <td>0.8663</td>\n",
       "      <td>0.6869</td>\n",
       "      <td>0.2575</td>\n",
       "      <td>0.6638</td>\n",
       "      <td>0.17300</td>\n",
       "    </tr>\n",
       "    <tr>\n",
       "      <th>3</th>\n",
       "      <td>84358402</td>\n",
       "      <td>M</td>\n",
       "      <td>20.29</td>\n",
       "      <td>14.34</td>\n",
       "      <td>135.10</td>\n",
       "      <td>1297.0</td>\n",
       "      <td>0.10030</td>\n",
       "      <td>0.13280</td>\n",
       "      <td>0.1980</td>\n",
       "      <td>0.10430</td>\n",
       "      <td>...</td>\n",
       "      <td>22.54</td>\n",
       "      <td>16.67</td>\n",
       "      <td>152.20</td>\n",
       "      <td>1575.0</td>\n",
       "      <td>0.1374</td>\n",
       "      <td>0.2050</td>\n",
       "      <td>0.4000</td>\n",
       "      <td>0.1625</td>\n",
       "      <td>0.2364</td>\n",
       "      <td>0.07678</td>\n",
       "    </tr>\n",
       "    <tr>\n",
       "      <th>4</th>\n",
       "      <td>843786</td>\n",
       "      <td>M</td>\n",
       "      <td>12.45</td>\n",
       "      <td>15.70</td>\n",
       "      <td>82.57</td>\n",
       "      <td>477.1</td>\n",
       "      <td>0.12780</td>\n",
       "      <td>0.17000</td>\n",
       "      <td>0.1578</td>\n",
       "      <td>0.08089</td>\n",
       "      <td>...</td>\n",
       "      <td>15.47</td>\n",
       "      <td>23.75</td>\n",
       "      <td>103.40</td>\n",
       "      <td>741.6</td>\n",
       "      <td>0.1791</td>\n",
       "      <td>0.5249</td>\n",
       "      <td>0.5355</td>\n",
       "      <td>0.1741</td>\n",
       "      <td>0.3985</td>\n",
       "      <td>0.12440</td>\n",
       "    </tr>\n",
       "  </tbody>\n",
       "</table>\n",
       "<p>5 rows × 32 columns</p>\n",
       "</div>"
      ],
      "text/plain": [
       "     842302  M  17.99  10.38   122.8    1001   0.1184   0.2776  0.3001  \\\n",
       "0    842517  M  20.57  17.77  132.90  1326.0  0.08474  0.07864  0.0869   \n",
       "1  84300903  M  19.69  21.25  130.00  1203.0  0.10960  0.15990  0.1974   \n",
       "2  84348301  M  11.42  20.38   77.58   386.1  0.14250  0.28390  0.2414   \n",
       "3  84358402  M  20.29  14.34  135.10  1297.0  0.10030  0.13280  0.1980   \n",
       "4    843786  M  12.45  15.70   82.57   477.1  0.12780  0.17000  0.1578   \n",
       "\n",
       "    0.1471  ...  25.38  17.33   184.6    2019  0.1622  0.6656  0.7119  0.2654  \\\n",
       "0  0.07017  ...  24.99  23.41  158.80  1956.0  0.1238  0.1866  0.2416  0.1860   \n",
       "1  0.12790  ...  23.57  25.53  152.50  1709.0  0.1444  0.4245  0.4504  0.2430   \n",
       "2  0.10520  ...  14.91  26.50   98.87   567.7  0.2098  0.8663  0.6869  0.2575   \n",
       "3  0.10430  ...  22.54  16.67  152.20  1575.0  0.1374  0.2050  0.4000  0.1625   \n",
       "4  0.08089  ...  15.47  23.75  103.40   741.6  0.1791  0.5249  0.5355  0.1741   \n",
       "\n",
       "   0.4601   0.1189  \n",
       "0  0.2750  0.08902  \n",
       "1  0.3613  0.08758  \n",
       "2  0.6638  0.17300  \n",
       "3  0.2364  0.07678  \n",
       "4  0.3985  0.12440  \n",
       "\n",
       "[5 rows x 32 columns]"
      ]
     },
     "execution_count": 3,
     "metadata": {},
     "output_type": "execute_result"
    }
   ],
   "source": [
    "# Open the csv file\n",
    "df=pd.read_csv(\"./breast-cancer.csv\")\n",
    "df.head()"
   ]
  },
  {
   "cell_type": "code",
   "execution_count": 4,
   "metadata": {},
   "outputs": [
    {
     "data": {
      "text/html": [
       "<div>\n",
       "<style scoped>\n",
       "    .dataframe tbody tr th:only-of-type {\n",
       "        vertical-align: middle;\n",
       "    }\n",
       "\n",
       "    .dataframe tbody tr th {\n",
       "        vertical-align: top;\n",
       "    }\n",
       "\n",
       "    .dataframe thead th {\n",
       "        text-align: right;\n",
       "    }\n",
       "</style>\n",
       "<table border=\"1\" class=\"dataframe\">\n",
       "  <thead>\n",
       "    <tr style=\"text-align: right;\">\n",
       "      <th></th>\n",
       "      <th>ID</th>\n",
       "      <th>diagnosis</th>\n",
       "      <th>radius_mean</th>\n",
       "      <th>radius_sd_error</th>\n",
       "      <th>radius_worst</th>\n",
       "      <th>texture_mean</th>\n",
       "      <th>texture_sd_error</th>\n",
       "      <th>texture_worst</th>\n",
       "      <th>perimeter_mean</th>\n",
       "      <th>perimeter_sd_error</th>\n",
       "      <th>...</th>\n",
       "      <th>concavity_worst</th>\n",
       "      <th>concave_points_mean</th>\n",
       "      <th>concave_points_sd_error</th>\n",
       "      <th>concave_points_worst</th>\n",
       "      <th>symmetry_mean</th>\n",
       "      <th>symmetry_sd_error</th>\n",
       "      <th>symmetry_worst</th>\n",
       "      <th>fractal_dimension_mean</th>\n",
       "      <th>fractal_dimension_sd_error</th>\n",
       "      <th>fractal_dimension_worst</th>\n",
       "    </tr>\n",
       "  </thead>\n",
       "  <tbody>\n",
       "    <tr>\n",
       "      <th>0</th>\n",
       "      <td>842517</td>\n",
       "      <td>M</td>\n",
       "      <td>20.57</td>\n",
       "      <td>17.77</td>\n",
       "      <td>132.90</td>\n",
       "      <td>1326.0</td>\n",
       "      <td>0.08474</td>\n",
       "      <td>0.07864</td>\n",
       "      <td>0.0869</td>\n",
       "      <td>0.07017</td>\n",
       "      <td>...</td>\n",
       "      <td>24.99</td>\n",
       "      <td>23.41</td>\n",
       "      <td>158.80</td>\n",
       "      <td>1956.0</td>\n",
       "      <td>0.1238</td>\n",
       "      <td>0.1866</td>\n",
       "      <td>0.2416</td>\n",
       "      <td>0.1860</td>\n",
       "      <td>0.2750</td>\n",
       "      <td>0.08902</td>\n",
       "    </tr>\n",
       "    <tr>\n",
       "      <th>1</th>\n",
       "      <td>84300903</td>\n",
       "      <td>M</td>\n",
       "      <td>19.69</td>\n",
       "      <td>21.25</td>\n",
       "      <td>130.00</td>\n",
       "      <td>1203.0</td>\n",
       "      <td>0.10960</td>\n",
       "      <td>0.15990</td>\n",
       "      <td>0.1974</td>\n",
       "      <td>0.12790</td>\n",
       "      <td>...</td>\n",
       "      <td>23.57</td>\n",
       "      <td>25.53</td>\n",
       "      <td>152.50</td>\n",
       "      <td>1709.0</td>\n",
       "      <td>0.1444</td>\n",
       "      <td>0.4245</td>\n",
       "      <td>0.4504</td>\n",
       "      <td>0.2430</td>\n",
       "      <td>0.3613</td>\n",
       "      <td>0.08758</td>\n",
       "    </tr>\n",
       "    <tr>\n",
       "      <th>2</th>\n",
       "      <td>84348301</td>\n",
       "      <td>M</td>\n",
       "      <td>11.42</td>\n",
       "      <td>20.38</td>\n",
       "      <td>77.58</td>\n",
       "      <td>386.1</td>\n",
       "      <td>0.14250</td>\n",
       "      <td>0.28390</td>\n",
       "      <td>0.2414</td>\n",
       "      <td>0.10520</td>\n",
       "      <td>...</td>\n",
       "      <td>14.91</td>\n",
       "      <td>26.50</td>\n",
       "      <td>98.87</td>\n",
       "      <td>567.7</td>\n",
       "      <td>0.2098</td>\n",
       "      <td>0.8663</td>\n",
       "      <td>0.6869</td>\n",
       "      <td>0.2575</td>\n",
       "      <td>0.6638</td>\n",
       "      <td>0.17300</td>\n",
       "    </tr>\n",
       "    <tr>\n",
       "      <th>3</th>\n",
       "      <td>84358402</td>\n",
       "      <td>M</td>\n",
       "      <td>20.29</td>\n",
       "      <td>14.34</td>\n",
       "      <td>135.10</td>\n",
       "      <td>1297.0</td>\n",
       "      <td>0.10030</td>\n",
       "      <td>0.13280</td>\n",
       "      <td>0.1980</td>\n",
       "      <td>0.10430</td>\n",
       "      <td>...</td>\n",
       "      <td>22.54</td>\n",
       "      <td>16.67</td>\n",
       "      <td>152.20</td>\n",
       "      <td>1575.0</td>\n",
       "      <td>0.1374</td>\n",
       "      <td>0.2050</td>\n",
       "      <td>0.4000</td>\n",
       "      <td>0.1625</td>\n",
       "      <td>0.2364</td>\n",
       "      <td>0.07678</td>\n",
       "    </tr>\n",
       "    <tr>\n",
       "      <th>4</th>\n",
       "      <td>843786</td>\n",
       "      <td>M</td>\n",
       "      <td>12.45</td>\n",
       "      <td>15.70</td>\n",
       "      <td>82.57</td>\n",
       "      <td>477.1</td>\n",
       "      <td>0.12780</td>\n",
       "      <td>0.17000</td>\n",
       "      <td>0.1578</td>\n",
       "      <td>0.08089</td>\n",
       "      <td>...</td>\n",
       "      <td>15.47</td>\n",
       "      <td>23.75</td>\n",
       "      <td>103.40</td>\n",
       "      <td>741.6</td>\n",
       "      <td>0.1791</td>\n",
       "      <td>0.5249</td>\n",
       "      <td>0.5355</td>\n",
       "      <td>0.1741</td>\n",
       "      <td>0.3985</td>\n",
       "      <td>0.12440</td>\n",
       "    </tr>\n",
       "  </tbody>\n",
       "</table>\n",
       "<p>5 rows × 32 columns</p>\n",
       "</div>"
      ],
      "text/plain": [
       "         ID diagnosis  radius_mean  radius_sd_error  radius_worst  \\\n",
       "0    842517         M        20.57            17.77        132.90   \n",
       "1  84300903         M        19.69            21.25        130.00   \n",
       "2  84348301         M        11.42            20.38         77.58   \n",
       "3  84358402         M        20.29            14.34        135.10   \n",
       "4    843786         M        12.45            15.70         82.57   \n",
       "\n",
       "   texture_mean  texture_sd_error  texture_worst  perimeter_mean  \\\n",
       "0        1326.0           0.08474        0.07864          0.0869   \n",
       "1        1203.0           0.10960        0.15990          0.1974   \n",
       "2         386.1           0.14250        0.28390          0.2414   \n",
       "3        1297.0           0.10030        0.13280          0.1980   \n",
       "4         477.1           0.12780        0.17000          0.1578   \n",
       "\n",
       "   perimeter_sd_error  ...  concavity_worst  concave_points_mean  \\\n",
       "0             0.07017  ...            24.99                23.41   \n",
       "1             0.12790  ...            23.57                25.53   \n",
       "2             0.10520  ...            14.91                26.50   \n",
       "3             0.10430  ...            22.54                16.67   \n",
       "4             0.08089  ...            15.47                23.75   \n",
       "\n",
       "   concave_points_sd_error  concave_points_worst  symmetry_mean  \\\n",
       "0                   158.80                1956.0         0.1238   \n",
       "1                   152.50                1709.0         0.1444   \n",
       "2                    98.87                 567.7         0.2098   \n",
       "3                   152.20                1575.0         0.1374   \n",
       "4                   103.40                 741.6         0.1791   \n",
       "\n",
       "   symmetry_sd_error  symmetry_worst  fractal_dimension_mean  \\\n",
       "0             0.1866          0.2416                  0.1860   \n",
       "1             0.4245          0.4504                  0.2430   \n",
       "2             0.8663          0.6869                  0.2575   \n",
       "3             0.2050          0.4000                  0.1625   \n",
       "4             0.5249          0.5355                  0.1741   \n",
       "\n",
       "   fractal_dimension_sd_error  fractal_dimension_worst  \n",
       "0                      0.2750                  0.08902  \n",
       "1                      0.3613                  0.08758  \n",
       "2                      0.6638                  0.17300  \n",
       "3                      0.2364                  0.07678  \n",
       "4                      0.3985                  0.12440  \n",
       "\n",
       "[5 rows x 32 columns]"
      ]
     },
     "execution_count": 4,
     "metadata": {},
     "output_type": "execute_result"
    }
   ],
   "source": [
    "# Assign the header to the dataframe\n",
    "df.columns = header\n",
    "df.head()"
   ]
  },
  {
   "cell_type": "code",
   "execution_count": 5,
   "metadata": {},
   "outputs": [
    {
     "name": "stdout",
     "output_type": "stream",
     "text": [
      "<class 'pandas.core.frame.DataFrame'>\n",
      "RangeIndex: 568 entries, 0 to 567\n",
      "Data columns (total 32 columns):\n",
      " #   Column                      Non-Null Count  Dtype  \n",
      "---  ------                      --------------  -----  \n",
      " 0   ID                          568 non-null    int64  \n",
      " 1   diagnosis                   568 non-null    object \n",
      " 2   radius_mean                 568 non-null    float64\n",
      " 3   radius_sd_error             568 non-null    float64\n",
      " 4   radius_worst                568 non-null    float64\n",
      " 5   texture_mean                568 non-null    float64\n",
      " 6   texture_sd_error            568 non-null    float64\n",
      " 7   texture_worst               568 non-null    float64\n",
      " 8   perimeter_mean              568 non-null    float64\n",
      " 9   perimeter_sd_error          568 non-null    float64\n",
      " 10  perimeter_worst             568 non-null    float64\n",
      " 11  area_mean                   568 non-null    float64\n",
      " 12  area_sd_error               568 non-null    float64\n",
      " 13  area_worst                  568 non-null    float64\n",
      " 14  smoothness_mean             568 non-null    float64\n",
      " 15  smoothness_sd_error         568 non-null    float64\n",
      " 16  smoothness_worst            568 non-null    float64\n",
      " 17  compactness_mean            568 non-null    float64\n",
      " 18  compactness_sd_error        568 non-null    float64\n",
      " 19  compactness_worst           568 non-null    float64\n",
      " 20  concavity_mean              568 non-null    float64\n",
      " 21  concavity_sd_error          568 non-null    float64\n",
      " 22  concavity_worst             568 non-null    float64\n",
      " 23  concave_points_mean         568 non-null    float64\n",
      " 24  concave_points_sd_error     568 non-null    float64\n",
      " 25  concave_points_worst        568 non-null    float64\n",
      " 26  symmetry_mean               568 non-null    float64\n",
      " 27  symmetry_sd_error           568 non-null    float64\n",
      " 28  symmetry_worst              568 non-null    float64\n",
      " 29  fractal_dimension_mean      568 non-null    float64\n",
      " 30  fractal_dimension_sd_error  568 non-null    float64\n",
      " 31  fractal_dimension_worst     568 non-null    float64\n",
      "dtypes: float64(30), int64(1), object(1)\n",
      "memory usage: 142.1+ KB\n"
     ]
    }
   ],
   "source": [
    "# What does the dataframe is made of - there is no null value - that's great\n",
    "df.info()"
   ]
  },
  {
   "cell_type": "code",
   "execution_count": 6,
   "metadata": {},
   "outputs": [
    {
     "data": {
      "text/html": [
       "<div>\n",
       "<style scoped>\n",
       "    .dataframe tbody tr th:only-of-type {\n",
       "        vertical-align: middle;\n",
       "    }\n",
       "\n",
       "    .dataframe tbody tr th {\n",
       "        vertical-align: top;\n",
       "    }\n",
       "\n",
       "    .dataframe thead th {\n",
       "        text-align: right;\n",
       "    }\n",
       "</style>\n",
       "<table border=\"1\" class=\"dataframe\">\n",
       "  <thead>\n",
       "    <tr style=\"text-align: right;\">\n",
       "      <th></th>\n",
       "      <th>ID</th>\n",
       "      <th>radius_mean</th>\n",
       "      <th>radius_sd_error</th>\n",
       "      <th>radius_worst</th>\n",
       "      <th>texture_mean</th>\n",
       "      <th>texture_sd_error</th>\n",
       "      <th>texture_worst</th>\n",
       "      <th>perimeter_mean</th>\n",
       "      <th>perimeter_sd_error</th>\n",
       "      <th>perimeter_worst</th>\n",
       "      <th>...</th>\n",
       "      <th>concavity_worst</th>\n",
       "      <th>concave_points_mean</th>\n",
       "      <th>concave_points_sd_error</th>\n",
       "      <th>concave_points_worst</th>\n",
       "      <th>symmetry_mean</th>\n",
       "      <th>symmetry_sd_error</th>\n",
       "      <th>symmetry_worst</th>\n",
       "      <th>fractal_dimension_mean</th>\n",
       "      <th>fractal_dimension_sd_error</th>\n",
       "      <th>fractal_dimension_worst</th>\n",
       "    </tr>\n",
       "  </thead>\n",
       "  <tbody>\n",
       "    <tr>\n",
       "      <th>count</th>\n",
       "      <td>5.680000e+02</td>\n",
       "      <td>568.000000</td>\n",
       "      <td>568.000000</td>\n",
       "      <td>568.000000</td>\n",
       "      <td>568.000000</td>\n",
       "      <td>568.000000</td>\n",
       "      <td>568.000000</td>\n",
       "      <td>568.000000</td>\n",
       "      <td>568.000000</td>\n",
       "      <td>568.000000</td>\n",
       "      <td>...</td>\n",
       "      <td>568.00000</td>\n",
       "      <td>568.000000</td>\n",
       "      <td>568.000000</td>\n",
       "      <td>568.000000</td>\n",
       "      <td>568.000000</td>\n",
       "      <td>568.000000</td>\n",
       "      <td>568.000000</td>\n",
       "      <td>568.000000</td>\n",
       "      <td>568.000000</td>\n",
       "      <td>568.000000</td>\n",
       "    </tr>\n",
       "    <tr>\n",
       "      <th>mean</th>\n",
       "      <td>3.042382e+07</td>\n",
       "      <td>14.120491</td>\n",
       "      <td>19.305335</td>\n",
       "      <td>91.914754</td>\n",
       "      <td>654.279754</td>\n",
       "      <td>0.096321</td>\n",
       "      <td>0.104036</td>\n",
       "      <td>0.088427</td>\n",
       "      <td>0.048746</td>\n",
       "      <td>0.181055</td>\n",
       "      <td>...</td>\n",
       "      <td>16.25315</td>\n",
       "      <td>25.691919</td>\n",
       "      <td>107.125053</td>\n",
       "      <td>878.578873</td>\n",
       "      <td>0.132316</td>\n",
       "      <td>0.253541</td>\n",
       "      <td>0.271414</td>\n",
       "      <td>0.114341</td>\n",
       "      <td>0.289776</td>\n",
       "      <td>0.083884</td>\n",
       "    </tr>\n",
       "    <tr>\n",
       "      <th>std</th>\n",
       "      <td>1.251246e+08</td>\n",
       "      <td>3.523416</td>\n",
       "      <td>4.288506</td>\n",
       "      <td>24.285848</td>\n",
       "      <td>351.923751</td>\n",
       "      <td>0.014046</td>\n",
       "      <td>0.052355</td>\n",
       "      <td>0.079294</td>\n",
       "      <td>0.038617</td>\n",
       "      <td>0.027319</td>\n",
       "      <td>...</td>\n",
       "      <td>4.82232</td>\n",
       "      <td>6.141662</td>\n",
       "      <td>33.474687</td>\n",
       "      <td>567.846267</td>\n",
       "      <td>0.022818</td>\n",
       "      <td>0.156523</td>\n",
       "      <td>0.207989</td>\n",
       "      <td>0.065484</td>\n",
       "      <td>0.061508</td>\n",
       "      <td>0.018017</td>\n",
       "    </tr>\n",
       "    <tr>\n",
       "      <th>min</th>\n",
       "      <td>8.670000e+03</td>\n",
       "      <td>6.981000</td>\n",
       "      <td>9.710000</td>\n",
       "      <td>43.790000</td>\n",
       "      <td>143.500000</td>\n",
       "      <td>0.052630</td>\n",
       "      <td>0.019380</td>\n",
       "      <td>0.000000</td>\n",
       "      <td>0.000000</td>\n",
       "      <td>0.106000</td>\n",
       "      <td>...</td>\n",
       "      <td>7.93000</td>\n",
       "      <td>12.020000</td>\n",
       "      <td>50.410000</td>\n",
       "      <td>185.200000</td>\n",
       "      <td>0.071170</td>\n",
       "      <td>0.027290</td>\n",
       "      <td>0.000000</td>\n",
       "      <td>0.000000</td>\n",
       "      <td>0.156500</td>\n",
       "      <td>0.055040</td>\n",
       "    </tr>\n",
       "    <tr>\n",
       "      <th>25%</th>\n",
       "      <td>8.692225e+05</td>\n",
       "      <td>11.697500</td>\n",
       "      <td>16.177500</td>\n",
       "      <td>75.135000</td>\n",
       "      <td>420.175000</td>\n",
       "      <td>0.086290</td>\n",
       "      <td>0.064815</td>\n",
       "      <td>0.029540</td>\n",
       "      <td>0.020310</td>\n",
       "      <td>0.161900</td>\n",
       "      <td>...</td>\n",
       "      <td>13.01000</td>\n",
       "      <td>21.095000</td>\n",
       "      <td>84.102500</td>\n",
       "      <td>514.975000</td>\n",
       "      <td>0.116600</td>\n",
       "      <td>0.146900</td>\n",
       "      <td>0.114475</td>\n",
       "      <td>0.064730</td>\n",
       "      <td>0.250350</td>\n",
       "      <td>0.071412</td>\n",
       "    </tr>\n",
       "    <tr>\n",
       "      <th>50%</th>\n",
       "      <td>9.061570e+05</td>\n",
       "      <td>13.355000</td>\n",
       "      <td>18.855000</td>\n",
       "      <td>86.210000</td>\n",
       "      <td>548.750000</td>\n",
       "      <td>0.095865</td>\n",
       "      <td>0.092525</td>\n",
       "      <td>0.061400</td>\n",
       "      <td>0.033455</td>\n",
       "      <td>0.179200</td>\n",
       "      <td>...</td>\n",
       "      <td>14.96500</td>\n",
       "      <td>25.425000</td>\n",
       "      <td>97.655000</td>\n",
       "      <td>685.550000</td>\n",
       "      <td>0.131300</td>\n",
       "      <td>0.211850</td>\n",
       "      <td>0.226550</td>\n",
       "      <td>0.099840</td>\n",
       "      <td>0.282050</td>\n",
       "      <td>0.080015</td>\n",
       "    </tr>\n",
       "    <tr>\n",
       "      <th>75%</th>\n",
       "      <td>8.825022e+06</td>\n",
       "      <td>15.780000</td>\n",
       "      <td>21.802500</td>\n",
       "      <td>103.875000</td>\n",
       "      <td>782.625000</td>\n",
       "      <td>0.105300</td>\n",
       "      <td>0.130400</td>\n",
       "      <td>0.129650</td>\n",
       "      <td>0.073730</td>\n",
       "      <td>0.195625</td>\n",
       "      <td>...</td>\n",
       "      <td>18.76750</td>\n",
       "      <td>29.757500</td>\n",
       "      <td>125.175000</td>\n",
       "      <td>1073.500000</td>\n",
       "      <td>0.146000</td>\n",
       "      <td>0.337600</td>\n",
       "      <td>0.381400</td>\n",
       "      <td>0.161325</td>\n",
       "      <td>0.317675</td>\n",
       "      <td>0.092065</td>\n",
       "    </tr>\n",
       "    <tr>\n",
       "      <th>max</th>\n",
       "      <td>9.113205e+08</td>\n",
       "      <td>28.110000</td>\n",
       "      <td>39.280000</td>\n",
       "      <td>188.500000</td>\n",
       "      <td>2501.000000</td>\n",
       "      <td>0.163400</td>\n",
       "      <td>0.345400</td>\n",
       "      <td>0.426800</td>\n",
       "      <td>0.201200</td>\n",
       "      <td>0.304000</td>\n",
       "      <td>...</td>\n",
       "      <td>36.04000</td>\n",
       "      <td>49.540000</td>\n",
       "      <td>251.200000</td>\n",
       "      <td>4254.000000</td>\n",
       "      <td>0.222600</td>\n",
       "      <td>1.058000</td>\n",
       "      <td>1.252000</td>\n",
       "      <td>0.291000</td>\n",
       "      <td>0.663800</td>\n",
       "      <td>0.207500</td>\n",
       "    </tr>\n",
       "  </tbody>\n",
       "</table>\n",
       "<p>8 rows × 31 columns</p>\n",
       "</div>"
      ],
      "text/plain": [
       "                 ID  radius_mean  radius_sd_error  radius_worst  texture_mean  \\\n",
       "count  5.680000e+02   568.000000       568.000000    568.000000    568.000000   \n",
       "mean   3.042382e+07    14.120491        19.305335     91.914754    654.279754   \n",
       "std    1.251246e+08     3.523416         4.288506     24.285848    351.923751   \n",
       "min    8.670000e+03     6.981000         9.710000     43.790000    143.500000   \n",
       "25%    8.692225e+05    11.697500        16.177500     75.135000    420.175000   \n",
       "50%    9.061570e+05    13.355000        18.855000     86.210000    548.750000   \n",
       "75%    8.825022e+06    15.780000        21.802500    103.875000    782.625000   \n",
       "max    9.113205e+08    28.110000        39.280000    188.500000   2501.000000   \n",
       "\n",
       "       texture_sd_error  texture_worst  perimeter_mean  perimeter_sd_error  \\\n",
       "count        568.000000     568.000000      568.000000          568.000000   \n",
       "mean           0.096321       0.104036        0.088427            0.048746   \n",
       "std            0.014046       0.052355        0.079294            0.038617   \n",
       "min            0.052630       0.019380        0.000000            0.000000   \n",
       "25%            0.086290       0.064815        0.029540            0.020310   \n",
       "50%            0.095865       0.092525        0.061400            0.033455   \n",
       "75%            0.105300       0.130400        0.129650            0.073730   \n",
       "max            0.163400       0.345400        0.426800            0.201200   \n",
       "\n",
       "       perimeter_worst  ...  concavity_worst  concave_points_mean  \\\n",
       "count       568.000000  ...        568.00000           568.000000   \n",
       "mean          0.181055  ...         16.25315            25.691919   \n",
       "std           0.027319  ...          4.82232             6.141662   \n",
       "min           0.106000  ...          7.93000            12.020000   \n",
       "25%           0.161900  ...         13.01000            21.095000   \n",
       "50%           0.179200  ...         14.96500            25.425000   \n",
       "75%           0.195625  ...         18.76750            29.757500   \n",
       "max           0.304000  ...         36.04000            49.540000   \n",
       "\n",
       "       concave_points_sd_error  concave_points_worst  symmetry_mean  \\\n",
       "count               568.000000            568.000000     568.000000   \n",
       "mean                107.125053            878.578873       0.132316   \n",
       "std                  33.474687            567.846267       0.022818   \n",
       "min                  50.410000            185.200000       0.071170   \n",
       "25%                  84.102500            514.975000       0.116600   \n",
       "50%                  97.655000            685.550000       0.131300   \n",
       "75%                 125.175000           1073.500000       0.146000   \n",
       "max                 251.200000           4254.000000       0.222600   \n",
       "\n",
       "       symmetry_sd_error  symmetry_worst  fractal_dimension_mean  \\\n",
       "count         568.000000      568.000000              568.000000   \n",
       "mean            0.253541        0.271414                0.114341   \n",
       "std             0.156523        0.207989                0.065484   \n",
       "min             0.027290        0.000000                0.000000   \n",
       "25%             0.146900        0.114475                0.064730   \n",
       "50%             0.211850        0.226550                0.099840   \n",
       "75%             0.337600        0.381400                0.161325   \n",
       "max             1.058000        1.252000                0.291000   \n",
       "\n",
       "       fractal_dimension_sd_error  fractal_dimension_worst  \n",
       "count                  568.000000               568.000000  \n",
       "mean                     0.289776                 0.083884  \n",
       "std                      0.061508                 0.018017  \n",
       "min                      0.156500                 0.055040  \n",
       "25%                      0.250350                 0.071412  \n",
       "50%                      0.282050                 0.080015  \n",
       "75%                      0.317675                 0.092065  \n",
       "max                      0.663800                 0.207500  \n",
       "\n",
       "[8 rows x 31 columns]"
      ]
     },
     "execution_count": 6,
     "metadata": {},
     "output_type": "execute_result"
    }
   ],
   "source": [
    "# Some descriptive statistics\n",
    "df.describe()"
   ]
  },
  {
   "cell_type": "code",
   "execution_count": 7,
   "metadata": {},
   "outputs": [
    {
     "data": {
      "text/plain": [
       "ID                            568\n",
       "diagnosis                       2\n",
       "radius_mean                   456\n",
       "radius_sd_error               478\n",
       "radius_worst                  521\n",
       "texture_mean                  538\n",
       "texture_sd_error              473\n",
       "texture_worst                 536\n",
       "perimeter_mean                536\n",
       "perimeter_sd_error            542\n",
       "perimeter_worst               431\n",
       "area_mean                     498\n",
       "area_sd_error                 539\n",
       "area_worst                    518\n",
       "smoothness_mean               532\n",
       "smoothness_sd_error           527\n",
       "smoothness_worst              547\n",
       "compactness_mean              540\n",
       "compactness_sd_error          532\n",
       "compactness_worst             506\n",
       "concavity_mean                497\n",
       "concavity_sd_error            544\n",
       "concavity_worst               456\n",
       "concave_points_mean           510\n",
       "concave_points_sd_error       514\n",
       "concave_points_worst          543\n",
       "symmetry_mean                 410\n",
       "symmetry_sd_error             528\n",
       "symmetry_worst                538\n",
       "fractal_dimension_mean        491\n",
       "fractal_dimension_sd_error    499\n",
       "fractal_dimension_worst       534\n",
       "dtype: int64"
      ]
     },
     "execution_count": 7,
     "metadata": {},
     "output_type": "execute_result"
    }
   ],
   "source": [
    "# Number of unique value\n",
    "df.nunique()"
   ]
  },
  {
   "cell_type": "markdown",
   "metadata": {},
   "source": [
    "### Compute the mean and median smoothness and compactness for benign and malignant tumors - do they differ? Explain how you would identify this."
   ]
  },
  {
   "cell_type": "code",
   "execution_count": 8,
   "metadata": {},
   "outputs": [
    {
     "data": {
      "text/plain": [
       "B    357\n",
       "M    211\n",
       "Name: diagnosis, dtype: int64"
      ]
     },
     "execution_count": 8,
     "metadata": {},
     "output_type": "execute_result"
    }
   ],
   "source": [
    "# What is the proportion of Benigh vs Maliagnant in the data\n",
    "df.diagnosis.value_counts()"
   ]
  },
  {
   "cell_type": "code",
   "execution_count": 9,
   "metadata": {},
   "outputs": [],
   "source": [
    "# We separate the data into two, benign and malignat to see there respective caracteristics\n",
    "benign = df.loc[df.diagnosis == \"B\"]\n",
    "malignant = df.loc[df.diagnosis == \"M\"]"
   ]
  },
  {
   "cell_type": "code",
   "execution_count": 10,
   "metadata": {},
   "outputs": [
    {
     "data": {
      "text/html": [
       "<div>\n",
       "<style scoped>\n",
       "    .dataframe tbody tr th:only-of-type {\n",
       "        vertical-align: middle;\n",
       "    }\n",
       "\n",
       "    .dataframe tbody tr th {\n",
       "        vertical-align: top;\n",
       "    }\n",
       "\n",
       "    .dataframe thead th {\n",
       "        text-align: right;\n",
       "    }\n",
       "</style>\n",
       "<table border=\"1\" class=\"dataframe\">\n",
       "  <thead>\n",
       "    <tr style=\"text-align: right;\">\n",
       "      <th></th>\n",
       "      <th>ID</th>\n",
       "      <th>radius_mean</th>\n",
       "      <th>radius_sd_error</th>\n",
       "      <th>radius_worst</th>\n",
       "      <th>texture_mean</th>\n",
       "      <th>texture_sd_error</th>\n",
       "      <th>texture_worst</th>\n",
       "      <th>perimeter_mean</th>\n",
       "      <th>perimeter_sd_error</th>\n",
       "      <th>perimeter_worst</th>\n",
       "      <th>...</th>\n",
       "      <th>concavity_worst</th>\n",
       "      <th>concave_points_mean</th>\n",
       "      <th>concave_points_sd_error</th>\n",
       "      <th>concave_points_worst</th>\n",
       "      <th>symmetry_mean</th>\n",
       "      <th>symmetry_sd_error</th>\n",
       "      <th>symmetry_worst</th>\n",
       "      <th>fractal_dimension_mean</th>\n",
       "      <th>fractal_dimension_sd_error</th>\n",
       "      <th>fractal_dimension_worst</th>\n",
       "    </tr>\n",
       "  </thead>\n",
       "  <tbody>\n",
       "    <tr>\n",
       "      <th>count</th>\n",
       "      <td>3.570000e+02</td>\n",
       "      <td>357.000000</td>\n",
       "      <td>357.000000</td>\n",
       "      <td>357.000000</td>\n",
       "      <td>357.000000</td>\n",
       "      <td>357.000000</td>\n",
       "      <td>357.000000</td>\n",
       "      <td>357.000000</td>\n",
       "      <td>357.000000</td>\n",
       "      <td>357.000000</td>\n",
       "      <td>...</td>\n",
       "      <td>357.000000</td>\n",
       "      <td>357.000000</td>\n",
       "      <td>357.000000</td>\n",
       "      <td>357.000000</td>\n",
       "      <td>357.000000</td>\n",
       "      <td>357.000000</td>\n",
       "      <td>357.000000</td>\n",
       "      <td>357.000000</td>\n",
       "      <td>357.000000</td>\n",
       "      <td>357.000000</td>\n",
       "    </tr>\n",
       "    <tr>\n",
       "      <th>mean</th>\n",
       "      <td>2.654382e+07</td>\n",
       "      <td>12.146524</td>\n",
       "      <td>17.914762</td>\n",
       "      <td>78.075406</td>\n",
       "      <td>462.790196</td>\n",
       "      <td>0.092478</td>\n",
       "      <td>0.080085</td>\n",
       "      <td>0.046058</td>\n",
       "      <td>0.025717</td>\n",
       "      <td>0.174186</td>\n",
       "      <td>...</td>\n",
       "      <td>13.379801</td>\n",
       "      <td>23.515070</td>\n",
       "      <td>87.005938</td>\n",
       "      <td>558.899440</td>\n",
       "      <td>0.124959</td>\n",
       "      <td>0.182673</td>\n",
       "      <td>0.166238</td>\n",
       "      <td>0.074444</td>\n",
       "      <td>0.270246</td>\n",
       "      <td>0.079442</td>\n",
       "    </tr>\n",
       "    <tr>\n",
       "      <th>std</th>\n",
       "      <td>1.167397e+08</td>\n",
       "      <td>1.780512</td>\n",
       "      <td>3.995125</td>\n",
       "      <td>11.807438</td>\n",
       "      <td>134.287118</td>\n",
       "      <td>0.013446</td>\n",
       "      <td>0.033750</td>\n",
       "      <td>0.043442</td>\n",
       "      <td>0.015909</td>\n",
       "      <td>0.024807</td>\n",
       "      <td>...</td>\n",
       "      <td>1.981368</td>\n",
       "      <td>5.493955</td>\n",
       "      <td>13.527091</td>\n",
       "      <td>163.601424</td>\n",
       "      <td>0.020013</td>\n",
       "      <td>0.092180</td>\n",
       "      <td>0.140368</td>\n",
       "      <td>0.035797</td>\n",
       "      <td>0.041745</td>\n",
       "      <td>0.013804</td>\n",
       "    </tr>\n",
       "    <tr>\n",
       "      <th>min</th>\n",
       "      <td>8.913000e+03</td>\n",
       "      <td>6.981000</td>\n",
       "      <td>9.710000</td>\n",
       "      <td>43.790000</td>\n",
       "      <td>143.500000</td>\n",
       "      <td>0.052630</td>\n",
       "      <td>0.019380</td>\n",
       "      <td>0.000000</td>\n",
       "      <td>0.000000</td>\n",
       "      <td>0.106000</td>\n",
       "      <td>...</td>\n",
       "      <td>7.930000</td>\n",
       "      <td>12.020000</td>\n",
       "      <td>50.410000</td>\n",
       "      <td>185.200000</td>\n",
       "      <td>0.071170</td>\n",
       "      <td>0.027290</td>\n",
       "      <td>0.000000</td>\n",
       "      <td>0.000000</td>\n",
       "      <td>0.156600</td>\n",
       "      <td>0.055210</td>\n",
       "    </tr>\n",
       "    <tr>\n",
       "      <th>25%</th>\n",
       "      <td>8.746620e+05</td>\n",
       "      <td>11.080000</td>\n",
       "      <td>15.150000</td>\n",
       "      <td>70.870000</td>\n",
       "      <td>378.200000</td>\n",
       "      <td>0.083060</td>\n",
       "      <td>0.055620</td>\n",
       "      <td>0.020310</td>\n",
       "      <td>0.015020</td>\n",
       "      <td>0.158000</td>\n",
       "      <td>...</td>\n",
       "      <td>12.080000</td>\n",
       "      <td>19.580000</td>\n",
       "      <td>78.270000</td>\n",
       "      <td>447.100000</td>\n",
       "      <td>0.110400</td>\n",
       "      <td>0.112000</td>\n",
       "      <td>0.077080</td>\n",
       "      <td>0.051040</td>\n",
       "      <td>0.240600</td>\n",
       "      <td>0.070090</td>\n",
       "    </tr>\n",
       "    <tr>\n",
       "      <th>50%</th>\n",
       "      <td>9.089160e+05</td>\n",
       "      <td>12.200000</td>\n",
       "      <td>17.390000</td>\n",
       "      <td>78.180000</td>\n",
       "      <td>458.400000</td>\n",
       "      <td>0.090760</td>\n",
       "      <td>0.075290</td>\n",
       "      <td>0.037090</td>\n",
       "      <td>0.023440</td>\n",
       "      <td>0.171400</td>\n",
       "      <td>...</td>\n",
       "      <td>13.350000</td>\n",
       "      <td>22.820000</td>\n",
       "      <td>86.920000</td>\n",
       "      <td>547.400000</td>\n",
       "      <td>0.125400</td>\n",
       "      <td>0.169800</td>\n",
       "      <td>0.141200</td>\n",
       "      <td>0.074310</td>\n",
       "      <td>0.268700</td>\n",
       "      <td>0.077120</td>\n",
       "    </tr>\n",
       "    <tr>\n",
       "      <th>75%</th>\n",
       "      <td>8.812816e+06</td>\n",
       "      <td>13.370000</td>\n",
       "      <td>19.760000</td>\n",
       "      <td>86.100000</td>\n",
       "      <td>551.100000</td>\n",
       "      <td>0.100700</td>\n",
       "      <td>0.097550</td>\n",
       "      <td>0.059990</td>\n",
       "      <td>0.032510</td>\n",
       "      <td>0.189000</td>\n",
       "      <td>...</td>\n",
       "      <td>14.800000</td>\n",
       "      <td>26.510000</td>\n",
       "      <td>96.590000</td>\n",
       "      <td>670.000000</td>\n",
       "      <td>0.137600</td>\n",
       "      <td>0.230200</td>\n",
       "      <td>0.221600</td>\n",
       "      <td>0.097490</td>\n",
       "      <td>0.298300</td>\n",
       "      <td>0.085410</td>\n",
       "    </tr>\n",
       "    <tr>\n",
       "      <th>max</th>\n",
       "      <td>9.113205e+08</td>\n",
       "      <td>17.850000</td>\n",
       "      <td>33.810000</td>\n",
       "      <td>114.600000</td>\n",
       "      <td>992.100000</td>\n",
       "      <td>0.163400</td>\n",
       "      <td>0.223900</td>\n",
       "      <td>0.410800</td>\n",
       "      <td>0.085340</td>\n",
       "      <td>0.274300</td>\n",
       "      <td>...</td>\n",
       "      <td>19.820000</td>\n",
       "      <td>41.780000</td>\n",
       "      <td>127.100000</td>\n",
       "      <td>1210.000000</td>\n",
       "      <td>0.200600</td>\n",
       "      <td>0.584900</td>\n",
       "      <td>1.252000</td>\n",
       "      <td>0.175000</td>\n",
       "      <td>0.422800</td>\n",
       "      <td>0.148600</td>\n",
       "    </tr>\n",
       "  </tbody>\n",
       "</table>\n",
       "<p>8 rows × 31 columns</p>\n",
       "</div>"
      ],
      "text/plain": [
       "                 ID  radius_mean  radius_sd_error  radius_worst  texture_mean  \\\n",
       "count  3.570000e+02   357.000000       357.000000    357.000000    357.000000   \n",
       "mean   2.654382e+07    12.146524        17.914762     78.075406    462.790196   \n",
       "std    1.167397e+08     1.780512         3.995125     11.807438    134.287118   \n",
       "min    8.913000e+03     6.981000         9.710000     43.790000    143.500000   \n",
       "25%    8.746620e+05    11.080000        15.150000     70.870000    378.200000   \n",
       "50%    9.089160e+05    12.200000        17.390000     78.180000    458.400000   \n",
       "75%    8.812816e+06    13.370000        19.760000     86.100000    551.100000   \n",
       "max    9.113205e+08    17.850000        33.810000    114.600000    992.100000   \n",
       "\n",
       "       texture_sd_error  texture_worst  perimeter_mean  perimeter_sd_error  \\\n",
       "count        357.000000     357.000000      357.000000          357.000000   \n",
       "mean           0.092478       0.080085        0.046058            0.025717   \n",
       "std            0.013446       0.033750        0.043442            0.015909   \n",
       "min            0.052630       0.019380        0.000000            0.000000   \n",
       "25%            0.083060       0.055620        0.020310            0.015020   \n",
       "50%            0.090760       0.075290        0.037090            0.023440   \n",
       "75%            0.100700       0.097550        0.059990            0.032510   \n",
       "max            0.163400       0.223900        0.410800            0.085340   \n",
       "\n",
       "       perimeter_worst  ...  concavity_worst  concave_points_mean  \\\n",
       "count       357.000000  ...       357.000000           357.000000   \n",
       "mean          0.174186  ...        13.379801            23.515070   \n",
       "std           0.024807  ...         1.981368             5.493955   \n",
       "min           0.106000  ...         7.930000            12.020000   \n",
       "25%           0.158000  ...        12.080000            19.580000   \n",
       "50%           0.171400  ...        13.350000            22.820000   \n",
       "75%           0.189000  ...        14.800000            26.510000   \n",
       "max           0.274300  ...        19.820000            41.780000   \n",
       "\n",
       "       concave_points_sd_error  concave_points_worst  symmetry_mean  \\\n",
       "count               357.000000            357.000000     357.000000   \n",
       "mean                 87.005938            558.899440       0.124959   \n",
       "std                  13.527091            163.601424       0.020013   \n",
       "min                  50.410000            185.200000       0.071170   \n",
       "25%                  78.270000            447.100000       0.110400   \n",
       "50%                  86.920000            547.400000       0.125400   \n",
       "75%                  96.590000            670.000000       0.137600   \n",
       "max                 127.100000           1210.000000       0.200600   \n",
       "\n",
       "       symmetry_sd_error  symmetry_worst  fractal_dimension_mean  \\\n",
       "count         357.000000      357.000000              357.000000   \n",
       "mean            0.182673        0.166238                0.074444   \n",
       "std             0.092180        0.140368                0.035797   \n",
       "min             0.027290        0.000000                0.000000   \n",
       "25%             0.112000        0.077080                0.051040   \n",
       "50%             0.169800        0.141200                0.074310   \n",
       "75%             0.230200        0.221600                0.097490   \n",
       "max             0.584900        1.252000                0.175000   \n",
       "\n",
       "       fractal_dimension_sd_error  fractal_dimension_worst  \n",
       "count                  357.000000               357.000000  \n",
       "mean                     0.270246                 0.079442  \n",
       "std                      0.041745                 0.013804  \n",
       "min                      0.156600                 0.055210  \n",
       "25%                      0.240600                 0.070090  \n",
       "50%                      0.268700                 0.077120  \n",
       "75%                      0.298300                 0.085410  \n",
       "max                      0.422800                 0.148600  \n",
       "\n",
       "[8 rows x 31 columns]"
      ]
     },
     "execution_count": 10,
     "metadata": {},
     "output_type": "execute_result"
    }
   ],
   "source": [
    "benign.describe()"
   ]
  },
  {
   "cell_type": "code",
   "execution_count": 11,
   "metadata": {},
   "outputs": [
    {
     "data": {
      "text/html": [
       "<div>\n",
       "<style scoped>\n",
       "    .dataframe tbody tr th:only-of-type {\n",
       "        vertical-align: middle;\n",
       "    }\n",
       "\n",
       "    .dataframe tbody tr th {\n",
       "        vertical-align: top;\n",
       "    }\n",
       "\n",
       "    .dataframe thead th {\n",
       "        text-align: right;\n",
       "    }\n",
       "</style>\n",
       "<table border=\"1\" class=\"dataframe\">\n",
       "  <thead>\n",
       "    <tr style=\"text-align: right;\">\n",
       "      <th></th>\n",
       "      <th>ID</th>\n",
       "      <th>radius_mean</th>\n",
       "      <th>radius_sd_error</th>\n",
       "      <th>radius_worst</th>\n",
       "      <th>texture_mean</th>\n",
       "      <th>texture_sd_error</th>\n",
       "      <th>texture_worst</th>\n",
       "      <th>perimeter_mean</th>\n",
       "      <th>perimeter_sd_error</th>\n",
       "      <th>perimeter_worst</th>\n",
       "      <th>...</th>\n",
       "      <th>concavity_worst</th>\n",
       "      <th>concave_points_mean</th>\n",
       "      <th>concave_points_sd_error</th>\n",
       "      <th>concave_points_worst</th>\n",
       "      <th>symmetry_mean</th>\n",
       "      <th>symmetry_sd_error</th>\n",
       "      <th>symmetry_worst</th>\n",
       "      <th>fractal_dimension_mean</th>\n",
       "      <th>fractal_dimension_sd_error</th>\n",
       "      <th>fractal_dimension_worst</th>\n",
       "    </tr>\n",
       "  </thead>\n",
       "  <tbody>\n",
       "    <tr>\n",
       "      <th>count</th>\n",
       "      <td>2.110000e+02</td>\n",
       "      <td>211.000000</td>\n",
       "      <td>211.000000</td>\n",
       "      <td>211.000000</td>\n",
       "      <td>211.000000</td>\n",
       "      <td>211.000000</td>\n",
       "      <td>211.000000</td>\n",
       "      <td>211.000000</td>\n",
       "      <td>211.000000</td>\n",
       "      <td>211.000000</td>\n",
       "      <td>...</td>\n",
       "      <td>211.000000</td>\n",
       "      <td>211.000000</td>\n",
       "      <td>211.00000</td>\n",
       "      <td>211.000000</td>\n",
       "      <td>211.000000</td>\n",
       "      <td>211.000000</td>\n",
       "      <td>211.000000</td>\n",
       "      <td>211.000000</td>\n",
       "      <td>211.000000</td>\n",
       "      <td>211.000000</td>\n",
       "    </tr>\n",
       "    <tr>\n",
       "      <th>mean</th>\n",
       "      <td>3.698855e+07</td>\n",
       "      <td>17.460332</td>\n",
       "      <td>21.658104</td>\n",
       "      <td>115.330142</td>\n",
       "      <td>978.269194</td>\n",
       "      <td>0.102825</td>\n",
       "      <td>0.144560</td>\n",
       "      <td>0.160114</td>\n",
       "      <td>0.087710</td>\n",
       "      <td>0.192677</td>\n",
       "      <td>...</td>\n",
       "      <td>21.114692</td>\n",
       "      <td>29.375024</td>\n",
       "      <td>141.16545</td>\n",
       "      <td>1419.458294</td>\n",
       "      <td>0.144763</td>\n",
       "      <td>0.373446</td>\n",
       "      <td>0.449367</td>\n",
       "      <td>0.181843</td>\n",
       "      <td>0.322820</td>\n",
       "      <td>0.091400</td>\n",
       "    </tr>\n",
       "    <tr>\n",
       "      <th>std</th>\n",
       "      <td>1.382021e+08</td>\n",
       "      <td>3.211384</td>\n",
       "      <td>3.708042</td>\n",
       "      <td>21.900590</td>\n",
       "      <td>368.809660</td>\n",
       "      <td>0.012593</td>\n",
       "      <td>0.053335</td>\n",
       "      <td>0.074578</td>\n",
       "      <td>0.034212</td>\n",
       "      <td>0.027496</td>\n",
       "      <td>...</td>\n",
       "      <td>4.283704</td>\n",
       "      <td>5.384249</td>\n",
       "      <td>29.37531</td>\n",
       "      <td>597.966989</td>\n",
       "      <td>0.021889</td>\n",
       "      <td>0.169589</td>\n",
       "      <td>0.181038</td>\n",
       "      <td>0.046060</td>\n",
       "      <td>0.074264</td>\n",
       "      <td>0.021521</td>\n",
       "    </tr>\n",
       "    <tr>\n",
       "      <th>min</th>\n",
       "      <td>8.670000e+03</td>\n",
       "      <td>10.950000</td>\n",
       "      <td>11.890000</td>\n",
       "      <td>71.900000</td>\n",
       "      <td>361.600000</td>\n",
       "      <td>0.073710</td>\n",
       "      <td>0.046050</td>\n",
       "      <td>0.023980</td>\n",
       "      <td>0.020310</td>\n",
       "      <td>0.130800</td>\n",
       "      <td>...</td>\n",
       "      <td>12.840000</td>\n",
       "      <td>16.670000</td>\n",
       "      <td>85.10000</td>\n",
       "      <td>508.100000</td>\n",
       "      <td>0.088220</td>\n",
       "      <td>0.051310</td>\n",
       "      <td>0.023980</td>\n",
       "      <td>0.028990</td>\n",
       "      <td>0.156500</td>\n",
       "      <td>0.055040</td>\n",
       "    </tr>\n",
       "    <tr>\n",
       "      <th>25%</th>\n",
       "      <td>8.619135e+05</td>\n",
       "      <td>15.070000</td>\n",
       "      <td>19.355000</td>\n",
       "      <td>98.710000</td>\n",
       "      <td>705.000000</td>\n",
       "      <td>0.094010</td>\n",
       "      <td>0.109400</td>\n",
       "      <td>0.109350</td>\n",
       "      <td>0.064620</td>\n",
       "      <td>0.174000</td>\n",
       "      <td>...</td>\n",
       "      <td>17.730000</td>\n",
       "      <td>25.820000</td>\n",
       "      <td>119.25000</td>\n",
       "      <td>969.200000</td>\n",
       "      <td>0.130350</td>\n",
       "      <td>0.244450</td>\n",
       "      <td>0.325650</td>\n",
       "      <td>0.152700</td>\n",
       "      <td>0.276200</td>\n",
       "      <td>0.076285</td>\n",
       "    </tr>\n",
       "    <tr>\n",
       "      <th>50%</th>\n",
       "      <td>8.956330e+05</td>\n",
       "      <td>17.300000</td>\n",
       "      <td>21.460000</td>\n",
       "      <td>114.200000</td>\n",
       "      <td>930.900000</td>\n",
       "      <td>0.102000</td>\n",
       "      <td>0.131900</td>\n",
       "      <td>0.150800</td>\n",
       "      <td>0.086240</td>\n",
       "      <td>0.189600</td>\n",
       "      <td>...</td>\n",
       "      <td>20.580000</td>\n",
       "      <td>29.020000</td>\n",
       "      <td>137.90000</td>\n",
       "      <td>1302.000000</td>\n",
       "      <td>0.143400</td>\n",
       "      <td>0.355900</td>\n",
       "      <td>0.402900</td>\n",
       "      <td>0.182000</td>\n",
       "      <td>0.310300</td>\n",
       "      <td>0.087580</td>\n",
       "    </tr>\n",
       "    <tr>\n",
       "      <th>75%</th>\n",
       "      <td>8.911416e+06</td>\n",
       "      <td>19.590000</td>\n",
       "      <td>23.780000</td>\n",
       "      <td>129.950000</td>\n",
       "      <td>1204.500000</td>\n",
       "      <td>0.110900</td>\n",
       "      <td>0.170950</td>\n",
       "      <td>0.200550</td>\n",
       "      <td>0.102450</td>\n",
       "      <td>0.209550</td>\n",
       "      <td>...</td>\n",
       "      <td>23.760000</td>\n",
       "      <td>32.700000</td>\n",
       "      <td>159.30000</td>\n",
       "      <td>1702.500000</td>\n",
       "      <td>0.155850</td>\n",
       "      <td>0.447000</td>\n",
       "      <td>0.554600</td>\n",
       "      <td>0.210350</td>\n",
       "      <td>0.359050</td>\n",
       "      <td>0.102500</td>\n",
       "    </tr>\n",
       "    <tr>\n",
       "      <th>max</th>\n",
       "      <td>9.112962e+08</td>\n",
       "      <td>28.110000</td>\n",
       "      <td>39.280000</td>\n",
       "      <td>188.500000</td>\n",
       "      <td>2501.000000</td>\n",
       "      <td>0.144700</td>\n",
       "      <td>0.345400</td>\n",
       "      <td>0.426800</td>\n",
       "      <td>0.201200</td>\n",
       "      <td>0.304000</td>\n",
       "      <td>...</td>\n",
       "      <td>36.040000</td>\n",
       "      <td>49.540000</td>\n",
       "      <td>251.20000</td>\n",
       "      <td>4254.000000</td>\n",
       "      <td>0.222600</td>\n",
       "      <td>1.058000</td>\n",
       "      <td>1.170000</td>\n",
       "      <td>0.291000</td>\n",
       "      <td>0.663800</td>\n",
       "      <td>0.207500</td>\n",
       "    </tr>\n",
       "  </tbody>\n",
       "</table>\n",
       "<p>8 rows × 31 columns</p>\n",
       "</div>"
      ],
      "text/plain": [
       "                 ID  radius_mean  radius_sd_error  radius_worst  texture_mean  \\\n",
       "count  2.110000e+02   211.000000       211.000000    211.000000    211.000000   \n",
       "mean   3.698855e+07    17.460332        21.658104    115.330142    978.269194   \n",
       "std    1.382021e+08     3.211384         3.708042     21.900590    368.809660   \n",
       "min    8.670000e+03    10.950000        11.890000     71.900000    361.600000   \n",
       "25%    8.619135e+05    15.070000        19.355000     98.710000    705.000000   \n",
       "50%    8.956330e+05    17.300000        21.460000    114.200000    930.900000   \n",
       "75%    8.911416e+06    19.590000        23.780000    129.950000   1204.500000   \n",
       "max    9.112962e+08    28.110000        39.280000    188.500000   2501.000000   \n",
       "\n",
       "       texture_sd_error  texture_worst  perimeter_mean  perimeter_sd_error  \\\n",
       "count        211.000000     211.000000      211.000000          211.000000   \n",
       "mean           0.102825       0.144560        0.160114            0.087710   \n",
       "std            0.012593       0.053335        0.074578            0.034212   \n",
       "min            0.073710       0.046050        0.023980            0.020310   \n",
       "25%            0.094010       0.109400        0.109350            0.064620   \n",
       "50%            0.102000       0.131900        0.150800            0.086240   \n",
       "75%            0.110900       0.170950        0.200550            0.102450   \n",
       "max            0.144700       0.345400        0.426800            0.201200   \n",
       "\n",
       "       perimeter_worst  ...  concavity_worst  concave_points_mean  \\\n",
       "count       211.000000  ...       211.000000           211.000000   \n",
       "mean          0.192677  ...        21.114692            29.375024   \n",
       "std           0.027496  ...         4.283704             5.384249   \n",
       "min           0.130800  ...        12.840000            16.670000   \n",
       "25%           0.174000  ...        17.730000            25.820000   \n",
       "50%           0.189600  ...        20.580000            29.020000   \n",
       "75%           0.209550  ...        23.760000            32.700000   \n",
       "max           0.304000  ...        36.040000            49.540000   \n",
       "\n",
       "       concave_points_sd_error  concave_points_worst  symmetry_mean  \\\n",
       "count                211.00000            211.000000     211.000000   \n",
       "mean                 141.16545           1419.458294       0.144763   \n",
       "std                   29.37531            597.966989       0.021889   \n",
       "min                   85.10000            508.100000       0.088220   \n",
       "25%                  119.25000            969.200000       0.130350   \n",
       "50%                  137.90000           1302.000000       0.143400   \n",
       "75%                  159.30000           1702.500000       0.155850   \n",
       "max                  251.20000           4254.000000       0.222600   \n",
       "\n",
       "       symmetry_sd_error  symmetry_worst  fractal_dimension_mean  \\\n",
       "count         211.000000      211.000000              211.000000   \n",
       "mean            0.373446        0.449367                0.181843   \n",
       "std             0.169589        0.181038                0.046060   \n",
       "min             0.051310        0.023980                0.028990   \n",
       "25%             0.244450        0.325650                0.152700   \n",
       "50%             0.355900        0.402900                0.182000   \n",
       "75%             0.447000        0.554600                0.210350   \n",
       "max             1.058000        1.170000                0.291000   \n",
       "\n",
       "       fractal_dimension_sd_error  fractal_dimension_worst  \n",
       "count                  211.000000               211.000000  \n",
       "mean                     0.322820                 0.091400  \n",
       "std                      0.074264                 0.021521  \n",
       "min                      0.156500                 0.055040  \n",
       "25%                      0.276200                 0.076285  \n",
       "50%                      0.310300                 0.087580  \n",
       "75%                      0.359050                 0.102500  \n",
       "max                      0.663800                 0.207500  \n",
       "\n",
       "[8 rows x 31 columns]"
      ]
     },
     "execution_count": 11,
     "metadata": {},
     "output_type": "execute_result"
    }
   ],
   "source": [
    "malignant.describe()"
   ]
  },
  {
   "cell_type": "code",
   "execution_count": 12,
   "metadata": {},
   "outputs": [
    {
     "name": "stdout",
     "output_type": "stream",
     "text": [
      "0.021438246498599437\n",
      "0.016309999999999998\n",
      "0.032201739336492896\n",
      "0.02855\n"
     ]
    }
   ],
   "source": [
    "# Mean & Median of compactness for Benign and Malignant cells\n",
    "print(benign.compactness_mean.mean())\n",
    "print(benign.compactness_mean.median())\n",
    "print(malignant.compactness_mean.mean())\n",
    "print(malignant.compactness_mean.median())"
   ]
  },
  {
   "cell_type": "code",
   "execution_count": 13,
   "metadata": {},
   "outputs": [
    {
     "name": "stdout",
     "output_type": "stream",
     "text": [
      "2.0003212885154062\n",
      "1.851\n",
      "4.303715639810426\n",
      "3.654\n"
     ]
    }
   ],
   "source": [
    "# Mean & Median of smothness of Benign and Malignant cells\n",
    "print(benign.smoothness_mean.mean())\n",
    "print(benign.smoothness_mean.median())\n",
    "print(malignant.smoothness_mean.mean())\n",
    "print(malignant.smoothness_mean.median())"
   ]
  },
  {
   "cell_type": "raw",
   "metadata": {},
   "source": [
    "Benign cell seems to be much smaller in size than Malignant cells"
   ]
  },
  {
   "cell_type": "markdown",
   "metadata": {},
   "source": [
    "### Write a function to generate bootstrap samples of the data."
   ]
  },
  {
   "cell_type": "code",
   "execution_count": 14,
   "metadata": {},
   "outputs": [],
   "source": [
    "# Lets try to get a random sample of the benign and get the smoothness\n",
    "sample = np.random.choice(benign.smoothness_mean, size=50)\n",
    "sample_mean=sample.mean()\n",
    "sample_std=sample.std()\n",
    "sample_std2 = np.std(sample, ddof=1)"
   ]
  },
  {
   "cell_type": "code",
   "execution_count": 15,
   "metadata": {},
   "outputs": [
    {
     "name": "stdout",
     "output_type": "stream",
     "text": [
      "[1.301  2.224  1.356  0.9219 1.612  1.199  2.347  2.554  1.714  1.183\n",
      " 1.539  1.778  2.393  2.597  3.312  1.959  1.466  2.077  1.429  2.155\n",
      " 1.236  2.12   1.495  1.035  1.742  2.183  1.677  2.668  1.729  1.558\n",
      " 1.253  2.058  2.701  2.056  1.493  1.567  1.851  2.493  3.717  1.277\n",
      " 2.552  1.094  1.011  1.727  1.628  0.9887 1.517  1.535  1.489  1.171 ]\n",
      "1.794772\n",
      "0.5965388621171298\n",
      "0.6025952494918991\n"
     ]
    }
   ],
   "source": [
    "print(sample)\n",
    "print(sample_mean)\n",
    "print(sample_std)\n",
    "print(sample_std2)"
   ]
  },
  {
   "cell_type": "code",
   "execution_count": 16,
   "metadata": {},
   "outputs": [],
   "source": [
    "# Construct the simulated a normal sampling distribution for benign cells\n",
    "sample_benign = []\n",
    "for _ in range(10000):\n",
    "    sample_b = np.random.choice(benign.smoothness_mean, size=50)\n",
    "    sample_benign.append(sample_b.mean())"
   ]
  },
  {
   "cell_type": "code",
   "execution_count": 17,
   "metadata": {},
   "outputs": [],
   "source": [
    "# Construct the simulated a normal sampling distribution for malignant cells\n",
    "sample_malignant = []\n",
    "for _ in range(10000):\n",
    "    sample_m = np.random.choice(malignant.smoothness_mean, size=50)\n",
    "    sample_malignant.append(sample_m.mean())"
   ]
  },
  {
   "cell_type": "code",
   "execution_count": 18,
   "metadata": {},
   "outputs": [],
   "source": [
    "# The simulated mean of the sampling distribution\n",
    "simulated_benign_mean = np.mean(sample_benign)\n",
    "simulated_malignant_mean = np.mean(sample_malignant)"
   ]
  },
  {
   "cell_type": "code",
   "execution_count": 19,
   "metadata": {},
   "outputs": [],
   "source": [
    "# The simulated standard deviation of the sampling distribution\n",
    "simulated_benign_std = np.std(sample_benign)\n",
    "simulated_malignant_std = np.std(sample_malignant)"
   ]
  },
  {
   "cell_type": "code",
   "execution_count": 20,
   "metadata": {},
   "outputs": [
    {
     "data": {
      "text/plain": [
       "(array([  36.,  251., 1049., 2392., 2897., 2126.,  928.,  266.,   50.,\n",
       "           5.]),\n",
       " array([1.6338  , 1.715864, 1.797928, 1.879992, 1.962056, 2.04412 ,\n",
       "        2.126184, 2.208248, 2.290312, 2.372376, 2.45444 ]),\n",
       " <a list of 10 Patch objects>)"
      ]
     },
     "execution_count": 20,
     "metadata": {},
     "output_type": "execute_result"
    },
    {
     "data": {
      "image/png": "[encoded data removed]",
      "text/plain": [
       "<Figure size 432x288 with 1 Axes>"
      ]
     },
     "metadata": {
      "needs_background": "light"
     },
     "output_type": "display_data"
    }
   ],
   "source": [
    "# Plot the simulated sampling distribution of the Benign cell - We see clearly the mean around 2 with a std around 0.4\n",
    "plt.hist(sample_benign)"
   ]
  },
  {
   "cell_type": "code",
   "execution_count": 21,
   "metadata": {},
   "outputs": [
    {
     "data": {
      "image/png": "[encoded data removed]",
      "text/plain": [
       "<Figure size 432x288 with 1 Axes>"
      ]
     },
     "metadata": {
      "needs_background": "light"
     },
     "output_type": "display_data"
    }
   ],
   "source": [
    "# We can see that there is a significant difference between Benign and Malignant\n",
    "plt.hist(sample_benign, alpha=0.5, label='Benign')\n",
    "plt.hist(sample_malignant, alpha=0.5, label='Malignant')\n",
    "plt.legend(loc='upper right')\n",
    "plt.show()"
   ]
  },
  {
   "cell_type": "code",
   "execution_count": 22,
   "metadata": {},
   "outputs": [
    {
     "data": {
      "text/plain": [
       "(2.0003212885154062, 2.0001554664)"
      ]
     },
     "execution_count": 22,
     "metadata": {},
     "output_type": "execute_result"
    }
   ],
   "source": [
    "# The theorical mean and simulated mean is very close to each other\n",
    "(benign.smoothness_mean.mean(), simulated_benign_mean)"
   ]
  },
  {
   "cell_type": "code",
   "execution_count": 23,
   "metadata": {},
   "outputs": [
    {
     "data": {
      "text/plain": [
       "(4.303715639810426, 4.304460678)"
      ]
     },
     "execution_count": 23,
     "metadata": {},
     "output_type": "execute_result"
    }
   ],
   "source": [
    "# The theorical mean and simulated mean is also very close to each other\n",
    "(malignant.smoothness_mean.mean(), simulated_malignant_mean)"
   ]
  },
  {
   "cell_type": "markdown",
   "metadata": {},
   "source": [
    "## Exploratory Analysis"
   ]
  },
  {
   "cell_type": "code",
   "execution_count": 24,
   "metadata": {},
   "outputs": [
    {
     "data": {
      "text/plain": [
       "<matplotlib.legend.Legend at 0x1bde8ad72b0>"
      ]
     },
     "execution_count": 24,
     "metadata": {},
     "output_type": "execute_result"
    },
    {
     "data": {
      "image/png": "[encoded data removed]",
      "text/plain": [
       "<Figure size 432x288 with 1 Axes>"
      ]
     },
     "metadata": {
      "needs_background": "light"
     },
     "output_type": "display_data"
    }
   ],
   "source": [
    "# Let see if there are other significant difference in other features of the data\n",
    "plt.hist(benign.radius_mean, alpha=0.5, color=\"blue\", label = \"Benign\")\n",
    "plt.hist(malignant.radius_mean, alpha=0.5, color=\"red\", label = \"Malignant\")\n",
    "plt.legend()"
   ]
  },
  {
   "cell_type": "raw",
   "metadata": {},
   "source": [
    "It seems there is a statistical difference between benign and malignant for their radius_mean"
   ]
  },
  {
   "cell_type": "code",
   "execution_count": 25,
   "metadata": {},
   "outputs": [
    {
     "data": {
      "text/plain": [
       "<matplotlib.legend.Legend at 0x1bde8b637f0>"
      ]
     },
     "execution_count": 25,
     "metadata": {},
     "output_type": "execute_result"
    },
    {
     "data": {
      "image/png": "[encoded data removed]",
      "text/plain": [
       "<Figure size 432x288 with 1 Axes>"
      ]
     },
     "metadata": {
      "needs_background": "light"
     },
     "output_type": "display_data"
    }
   ],
   "source": [
    "plt.hist(benign.texture_mean, alpha=0.5, color=\"blue\", label = \"Benign\")\n",
    "plt.hist(malignant.texture_mean, alpha=0.5, color=\"red\", label = \"Malignant\")\n",
    "plt.legend()"
   ]
  },
  {
   "cell_type": "raw",
   "metadata": {},
   "source": [
    "It seems there is a statistical difference between benign and malignant for their texture_mean"
   ]
  },
  {
   "cell_type": "code",
   "execution_count": 26,
   "metadata": {},
   "outputs": [
    {
     "data": {
      "text/plain": [
       "<matplotlib.legend.Legend at 0x1bde8bf4fd0>"
      ]
     },
     "execution_count": 26,
     "metadata": {},
     "output_type": "execute_result"
    },
    {
     "data": {
      "image/png": "[encoded data removed]",
      "text/plain": [
       "<Figure size 432x288 with 1 Axes>"
      ]
     },
     "metadata": {
      "needs_background": "light"
     },
     "output_type": "display_data"
    }
   ],
   "source": [
    "plt.hist(benign.perimeter_mean, alpha=0.5, color=\"blue\", label = \"Benign\")\n",
    "plt.hist(malignant.perimeter_mean, alpha=0.5, color=\"red\", label = \"Malignant\")\n",
    "plt.legend()"
   ]
  },
  {
   "cell_type": "raw",
   "metadata": {},
   "source": [
    "It seems there is a statistical difference between benign and malignant for their perimeter_mean"
   ]
  },
  {
   "cell_type": "code",
   "execution_count": 27,
   "metadata": {},
   "outputs": [
    {
     "data": {
      "text/plain": [
       "<matplotlib.legend.Legend at 0x1bde8c7bf98>"
      ]
     },
     "execution_count": 27,
     "metadata": {},
     "output_type": "execute_result"
    },
    {
     "data": {
      "image/png": "[encoded data removed]",
      "text/plain": [
       "<Figure size 432x288 with 1 Axes>"
      ]
     },
     "metadata": {
      "needs_background": "light"
     },
     "output_type": "display_data"
    }
   ],
   "source": [
    "plt.hist(benign.area_mean, alpha=0.5, color=\"blue\", label = \"Benign\")\n",
    "plt.hist(malignant.area_mean, alpha=0.5, color=\"red\", label = \"Malignant\")\n",
    "plt.legend()"
   ]
  },
  {
   "cell_type": "raw",
   "metadata": {},
   "source": [
    "It seems there very little difference between benign and malignant for their area_mean"
   ]
  },
  {
   "cell_type": "code",
   "execution_count": 28,
   "metadata": {},
   "outputs": [
    {
     "data": {
      "text/plain": [
       "<matplotlib.legend.Legend at 0x1bde8d2deb8>"
      ]
     },
     "execution_count": 28,
     "metadata": {},
     "output_type": "execute_result"
    },
    {
     "data": {
      "image/png": "[encoded data removed]",
      "text/plain": [
       "<Figure size 432x288 with 1 Axes>"
      ]
     },
     "metadata": {
      "needs_background": "light"
     },
     "output_type": "display_data"
    }
   ],
   "source": [
    "plt.hist(benign.smoothness_mean, alpha=0.5, color=\"blue\", label = \"Benign\")\n",
    "plt.hist(malignant.smoothness_mean, alpha=0.5, color=\"red\", label = \"Malignant\")\n",
    "plt.legend()"
   ]
  },
  {
   "cell_type": "raw",
   "metadata": {},
   "source": [
    "It seems there is a small difference between benign and malignant for their smoothness_mean"
   ]
  },
  {
   "cell_type": "code",
   "execution_count": 29,
   "metadata": {},
   "outputs": [
    {
     "data": {
      "text/plain": [
       "<matplotlib.legend.Legend at 0x1bde8dc5dd8>"
      ]
     },
     "execution_count": 29,
     "metadata": {},
     "output_type": "execute_result"
    },
    {
     "data": {
      "image/png": "[encoded data removed]",
      "text/plain": [
       "<Figure size 432x288 with 1 Axes>"
      ]
     },
     "metadata": {
      "needs_background": "light"
     },
     "output_type": "display_data"
    }
   ],
   "source": [
    "plt.hist(benign.compactness_mean, alpha=0.5, color=\"blue\", label = \"Benign\")\n",
    "plt.hist(malignant.compactness_mean, alpha=0.5, color=\"red\", label = \"Malignant\")\n",
    "plt.legend()"
   ]
  },
  {
   "cell_type": "raw",
   "metadata": {},
   "source": [
    "It seems there is a very little statistical difference between benign and malignant for their compactness_mean"
   ]
  },
  {
   "cell_type": "code",
   "execution_count": 30,
   "metadata": {},
   "outputs": [
    {
     "data": {
      "text/plain": [
       "<matplotlib.legend.Legend at 0x1bdeaee37b8>"
      ]
     },
     "execution_count": 30,
     "metadata": {},
     "output_type": "execute_result"
    },
    {
     "data": {
      "image/png": "[encoded data removed]",
      "text/plain": [
       "<Figure size 432x288 with 1 Axes>"
      ]
     },
     "metadata": {
      "needs_background": "light"
     },
     "output_type": "display_data"
    }
   ],
   "source": [
    "plt.hist(benign.concavity_mean, alpha=0.5, color=\"blue\", label = \"Benign\")\n",
    "plt.hist(malignant.concavity_mean, alpha=0.5, color=\"red\", label = \"Malignant\")\n",
    "plt.legend()"
   ]
  },
  {
   "cell_type": "raw",
   "metadata": {},
   "source": [
    "It seems there is No statistical difference between benign and malignant for their concavity_mean"
   ]
  },
  {
   "cell_type": "code",
   "execution_count": 31,
   "metadata": {},
   "outputs": [
    {
     "data": {
      "text/plain": [
       "<matplotlib.legend.Legend at 0x1bde8974f60>"
      ]
     },
     "execution_count": 31,
     "metadata": {},
     "output_type": "execute_result"
    },
    {
     "data": {
      "image/png": "[encoded data removed]",
      "text/plain": [
       "<Figure size 432x288 with 1 Axes>"
      ]
     },
     "metadata": {
      "needs_background": "light"
     },
     "output_type": "display_data"
    }
   ],
   "source": [
    "plt.hist(benign.fractal_dimension_mean, alpha=0.5, color=\"blue\", label = \"Benign\")\n",
    "plt.hist(malignant.fractal_dimension_mean, alpha=0.5, color=\"red\", label = \"Malignant\")\n",
    "plt.legend()"
   ]
  },
  {
   "cell_type": "raw",
   "metadata": {},
   "source": [
    "It seems there is a statistical difference between benign and malignant for their fractal_mean"
   ]
  },
  {
   "cell_type": "markdown",
   "metadata": {},
   "source": [
    "### Identify 2-3 variables that are predictive of a malignant tumor"
   ]
  },
  {
   "cell_type": "raw",
   "metadata": {},
   "source": [
    "Display the relationship visually and write 1-2 sentences explaining the relationship."
   ]
  },
  {
   "cell_type": "code",
   "execution_count": 32,
   "metadata": {},
   "outputs": [
    {
     "data": {
      "text/html": [
       "<div>\n",
       "<style scoped>\n",
       "    .dataframe tbody tr th:only-of-type {\n",
       "        vertical-align: middle;\n",
       "    }\n",
       "\n",
       "    .dataframe tbody tr th {\n",
       "        vertical-align: top;\n",
       "    }\n",
       "\n",
       "    .dataframe thead th {\n",
       "        text-align: right;\n",
       "    }\n",
       "</style>\n",
       "<table border=\"1\" class=\"dataframe\">\n",
       "  <thead>\n",
       "    <tr style=\"text-align: right;\">\n",
       "      <th></th>\n",
       "      <th>diagnosis</th>\n",
       "      <th>diagnosis_code</th>\n",
       "    </tr>\n",
       "  </thead>\n",
       "  <tbody>\n",
       "    <tr>\n",
       "      <th>0</th>\n",
       "      <td>M</td>\n",
       "      <td>1.0</td>\n",
       "    </tr>\n",
       "    <tr>\n",
       "      <th>1</th>\n",
       "      <td>M</td>\n",
       "      <td>1.0</td>\n",
       "    </tr>\n",
       "    <tr>\n",
       "      <th>2</th>\n",
       "      <td>M</td>\n",
       "      <td>1.0</td>\n",
       "    </tr>\n",
       "    <tr>\n",
       "      <th>3</th>\n",
       "      <td>M</td>\n",
       "      <td>1.0</td>\n",
       "    </tr>\n",
       "    <tr>\n",
       "      <th>4</th>\n",
       "      <td>M</td>\n",
       "      <td>1.0</td>\n",
       "    </tr>\n",
       "  </tbody>\n",
       "</table>\n",
       "</div>"
      ],
      "text/plain": [
       "  diagnosis  diagnosis_code\n",
       "0         M             1.0\n",
       "1         M             1.0\n",
       "2         M             1.0\n",
       "3         M             1.0\n",
       "4         M             1.0"
      ]
     },
     "execution_count": 32,
     "metadata": {},
     "output_type": "execute_result"
    }
   ],
   "source": [
    "# Transform categorical object into float\n",
    "lb_make = LabelEncoder()\n",
    "df['diagnosis_code'] = lb_make.fit_transform(df['diagnosis'])\n",
    "df.diagnosis_code = df.diagnosis_code.astype(float)\n",
    "df[[\"diagnosis\",\"diagnosis_code\"]].head()"
   ]
  },
  {
   "cell_type": "code",
   "execution_count": 33,
   "metadata": {},
   "outputs": [],
   "source": [
    "df_ready=df.iloc[:,2:33]"
   ]
  },
  {
   "cell_type": "code",
   "execution_count": 34,
   "metadata": {},
   "outputs": [
    {
     "data": {
      "text/html": [
       "<div>\n",
       "<style scoped>\n",
       "    .dataframe tbody tr th:only-of-type {\n",
       "        vertical-align: middle;\n",
       "    }\n",
       "\n",
       "    .dataframe tbody tr th {\n",
       "        vertical-align: top;\n",
       "    }\n",
       "\n",
       "    .dataframe thead th {\n",
       "        text-align: right;\n",
       "    }\n",
       "</style>\n",
       "<table border=\"1\" class=\"dataframe\">\n",
       "  <thead>\n",
       "    <tr style=\"text-align: right;\">\n",
       "      <th></th>\n",
       "      <th>radius_mean</th>\n",
       "      <th>radius_sd_error</th>\n",
       "      <th>radius_worst</th>\n",
       "      <th>texture_mean</th>\n",
       "      <th>texture_sd_error</th>\n",
       "      <th>texture_worst</th>\n",
       "      <th>perimeter_mean</th>\n",
       "      <th>perimeter_sd_error</th>\n",
       "      <th>perimeter_worst</th>\n",
       "      <th>area_mean</th>\n",
       "      <th>...</th>\n",
       "      <th>concave_points_mean</th>\n",
       "      <th>concave_points_sd_error</th>\n",
       "      <th>concave_points_worst</th>\n",
       "      <th>symmetry_mean</th>\n",
       "      <th>symmetry_sd_error</th>\n",
       "      <th>symmetry_worst</th>\n",
       "      <th>fractal_dimension_mean</th>\n",
       "      <th>fractal_dimension_sd_error</th>\n",
       "      <th>fractal_dimension_worst</th>\n",
       "      <th>diagnosis_code</th>\n",
       "    </tr>\n",
       "  </thead>\n",
       "  <tbody>\n",
       "    <tr>\n",
       "      <th>0</th>\n",
       "      <td>20.57</td>\n",
       "      <td>17.77</td>\n",
       "      <td>132.90</td>\n",
       "      <td>1326.0</td>\n",
       "      <td>0.08474</td>\n",
       "      <td>0.07864</td>\n",
       "      <td>0.0869</td>\n",
       "      <td>0.07017</td>\n",
       "      <td>0.1812</td>\n",
       "      <td>0.05667</td>\n",
       "      <td>...</td>\n",
       "      <td>23.41</td>\n",
       "      <td>158.80</td>\n",
       "      <td>1956.0</td>\n",
       "      <td>0.1238</td>\n",
       "      <td>0.1866</td>\n",
       "      <td>0.2416</td>\n",
       "      <td>0.1860</td>\n",
       "      <td>0.2750</td>\n",
       "      <td>0.08902</td>\n",
       "      <td>1.0</td>\n",
       "    </tr>\n",
       "    <tr>\n",
       "      <th>1</th>\n",
       "      <td>19.69</td>\n",
       "      <td>21.25</td>\n",
       "      <td>130.00</td>\n",
       "      <td>1203.0</td>\n",
       "      <td>0.10960</td>\n",
       "      <td>0.15990</td>\n",
       "      <td>0.1974</td>\n",
       "      <td>0.12790</td>\n",
       "      <td>0.2069</td>\n",
       "      <td>0.05999</td>\n",
       "      <td>...</td>\n",
       "      <td>25.53</td>\n",
       "      <td>152.50</td>\n",
       "      <td>1709.0</td>\n",
       "      <td>0.1444</td>\n",
       "      <td>0.4245</td>\n",
       "      <td>0.4504</td>\n",
       "      <td>0.2430</td>\n",
       "      <td>0.3613</td>\n",
       "      <td>0.08758</td>\n",
       "      <td>1.0</td>\n",
       "    </tr>\n",
       "    <tr>\n",
       "      <th>2</th>\n",
       "      <td>11.42</td>\n",
       "      <td>20.38</td>\n",
       "      <td>77.58</td>\n",
       "      <td>386.1</td>\n",
       "      <td>0.14250</td>\n",
       "      <td>0.28390</td>\n",
       "      <td>0.2414</td>\n",
       "      <td>0.10520</td>\n",
       "      <td>0.2597</td>\n",
       "      <td>0.09744</td>\n",
       "      <td>...</td>\n",
       "      <td>26.50</td>\n",
       "      <td>98.87</td>\n",
       "      <td>567.7</td>\n",
       "      <td>0.2098</td>\n",
       "      <td>0.8663</td>\n",
       "      <td>0.6869</td>\n",
       "      <td>0.2575</td>\n",
       "      <td>0.6638</td>\n",
       "      <td>0.17300</td>\n",
       "      <td>1.0</td>\n",
       "    </tr>\n",
       "    <tr>\n",
       "      <th>3</th>\n",
       "      <td>20.29</td>\n",
       "      <td>14.34</td>\n",
       "      <td>135.10</td>\n",
       "      <td>1297.0</td>\n",
       "      <td>0.10030</td>\n",
       "      <td>0.13280</td>\n",
       "      <td>0.1980</td>\n",
       "      <td>0.10430</td>\n",
       "      <td>0.1809</td>\n",
       "      <td>0.05883</td>\n",
       "      <td>...</td>\n",
       "      <td>16.67</td>\n",
       "      <td>152.20</td>\n",
       "      <td>1575.0</td>\n",
       "      <td>0.1374</td>\n",
       "      <td>0.2050</td>\n",
       "      <td>0.4000</td>\n",
       "      <td>0.1625</td>\n",
       "      <td>0.2364</td>\n",
       "      <td>0.07678</td>\n",
       "      <td>1.0</td>\n",
       "    </tr>\n",
       "    <tr>\n",
       "      <th>4</th>\n",
       "      <td>12.45</td>\n",
       "      <td>15.70</td>\n",
       "      <td>82.57</td>\n",
       "      <td>477.1</td>\n",
       "      <td>0.12780</td>\n",
       "      <td>0.17000</td>\n",
       "      <td>0.1578</td>\n",
       "      <td>0.08089</td>\n",
       "      <td>0.2087</td>\n",
       "      <td>0.07613</td>\n",
       "      <td>...</td>\n",
       "      <td>23.75</td>\n",
       "      <td>103.40</td>\n",
       "      <td>741.6</td>\n",
       "      <td>0.1791</td>\n",
       "      <td>0.5249</td>\n",
       "      <td>0.5355</td>\n",
       "      <td>0.1741</td>\n",
       "      <td>0.3985</td>\n",
       "      <td>0.12440</td>\n",
       "      <td>1.0</td>\n",
       "    </tr>\n",
       "  </tbody>\n",
       "</table>\n",
       "<p>5 rows × 31 columns</p>\n",
       "</div>"
      ],
      "text/plain": [
       "   radius_mean  radius_sd_error  radius_worst  texture_mean  texture_sd_error  \\\n",
       "0        20.57            17.77        132.90        1326.0           0.08474   \n",
       "1        19.69            21.25        130.00        1203.0           0.10960   \n",
       "2        11.42            20.38         77.58         386.1           0.14250   \n",
       "3        20.29            14.34        135.10        1297.0           0.10030   \n",
       "4        12.45            15.70         82.57         477.1           0.12780   \n",
       "\n",
       "   texture_worst  perimeter_mean  perimeter_sd_error  perimeter_worst  \\\n",
       "0        0.07864          0.0869             0.07017           0.1812   \n",
       "1        0.15990          0.1974             0.12790           0.2069   \n",
       "2        0.28390          0.2414             0.10520           0.2597   \n",
       "3        0.13280          0.1980             0.10430           0.1809   \n",
       "4        0.17000          0.1578             0.08089           0.2087   \n",
       "\n",
       "   area_mean  ...  concave_points_mean  concave_points_sd_error  \\\n",
       "0    0.05667  ...                23.41                   158.80   \n",
       "1    0.05999  ...                25.53                   152.50   \n",
       "2    0.09744  ...                26.50                    98.87   \n",
       "3    0.05883  ...                16.67                   152.20   \n",
       "4    0.07613  ...                23.75                   103.40   \n",
       "\n",
       "   concave_points_worst  symmetry_mean  symmetry_sd_error  symmetry_worst  \\\n",
       "0                1956.0         0.1238             0.1866          0.2416   \n",
       "1                1709.0         0.1444             0.4245          0.4504   \n",
       "2                 567.7         0.2098             0.8663          0.6869   \n",
       "3                1575.0         0.1374             0.2050          0.4000   \n",
       "4                 741.6         0.1791             0.5249          0.5355   \n",
       "\n",
       "   fractal_dimension_mean  fractal_dimension_sd_error  \\\n",
       "0                  0.1860                      0.2750   \n",
       "1                  0.2430                      0.3613   \n",
       "2                  0.2575                      0.6638   \n",
       "3                  0.1625                      0.2364   \n",
       "4                  0.1741                      0.3985   \n",
       "\n",
       "   fractal_dimension_worst  diagnosis_code  \n",
       "0                  0.08902             1.0  \n",
       "1                  0.08758             1.0  \n",
       "2                  0.17300             1.0  \n",
       "3                  0.07678             1.0  \n",
       "4                  0.12440             1.0  \n",
       "\n",
       "[5 rows x 31 columns]"
      ]
     },
     "execution_count": 34,
     "metadata": {},
     "output_type": "execute_result"
    }
   ],
   "source": [
    "df_ready.head()"
   ]
  },
  {
   "cell_type": "code",
   "execution_count": 35,
   "metadata": {},
   "outputs": [
    {
     "data": {
      "text/plain": [
       "(568, 31)"
      ]
     },
     "execution_count": 35,
     "metadata": {},
     "output_type": "execute_result"
    }
   ],
   "source": [
    "df_ready.shape"
   ]
  },
  {
   "cell_type": "code",
   "execution_count": 36,
   "metadata": {},
   "outputs": [
    {
     "data": {
      "text/plain": [
       "<matplotlib.axes._subplots.AxesSubplot at 0x1bdeaf58278>"
      ]
     },
     "execution_count": 36,
     "metadata": {},
     "output_type": "execute_result"
    },
    {
     "data": {
      "image/png": "[encoded data removed]",
      "text/plain": [
       "<Figure size 1152x1152 with 2 Axes>"
      ]
     },
     "metadata": {
      "needs_background": "light"
     },
     "output_type": "display_data"
    }
   ],
   "source": [
    "corr = df_ready.corr()\n",
    "\n",
    "\n",
    "# Generate a mask for the upper triangle\n",
    "mask = np.zeros_like(corr, dtype=np.bool)\n",
    "mask[np.triu_indices_from(mask)] = True\n",
    "\n",
    "# Set up the matplotlib figure\n",
    "f, ax = plt.subplots(figsize=(16, 16))\n",
    "\n",
    "# Generate a custom diverging colormap\n",
    "cmap = sns.diverging_palette(220, 10, as_cmap=True)\n",
    "\n",
    "# Draw the heatmap with the mask and correct aspect ratio\n",
    "sns.heatmap(corr, \n",
    "            mask=mask, \n",
    "            cmap=cmap, \n",
    "            vmax=.9, \n",
    "            center=0,\n",
    "            annot=True,\n",
    "            square=True, \n",
    "            linewidths=.5, \n",
    "            cbar_kws={\"shrink\": .5}, \n",
    "            xticklabels=corr.columns.values, \n",
    "            yticklabels=corr.columns.values)"
   ]
  },
  {
   "cell_type": "raw",
   "metadata": {},
   "source": [
    "There are a few column features that are highly correlated (usually anything that is higher than 0.6-0.65), we could potentially remove them for further analysis. High correlation could lead to overfitting in a model. But we also don't have a lot of data \n",
    "For example: radius_mean and radius_worst"
   ]
  },
  {
   "cell_type": "code",
   "execution_count": 37,
   "metadata": {},
   "outputs": [
    {
     "data": {
      "text/plain": [
       "radius_mean                   0.729376\n",
       "radius_sd_error               0.422146\n",
       "radius_worst                  0.741887\n",
       "texture_mean                  0.708389\n",
       "texture_sd_error              0.356276\n",
       "texture_worst                 0.595587\n",
       "perimeter_mean                0.695648\n",
       "perimeter_sd_error            0.776369\n",
       "perimeter_worst               0.327336\n",
       "area_mean                    -0.018099\n",
       "area_sd_error                 0.565373\n",
       "area_worst                   -0.007024\n",
       "smoothness_mean               0.554416\n",
       "smoothness_sd_error           0.546343\n",
       "smoothness_worst             -0.066629\n",
       "compactness_mean              0.290866\n",
       "compactness_sd_error          0.252567\n",
       "compactness_worst             0.407293\n",
       "concavity_mean               -0.009170\n",
       "concavity_sd_error            0.076068\n",
       "concavity_worst               0.775725\n",
       "concave_points_mean           0.461443\n",
       "concave_points_sd_error       0.782470\n",
       "concave_points_worst          0.732925\n",
       "symmetry_mean                 0.419731\n",
       "symmetry_sd_error             0.589453\n",
       "symmetry_worst                0.658348\n",
       "fractal_dimension_mean        0.793181\n",
       "fractal_dimension_sd_error    0.413382\n",
       "fractal_dimension_worst       0.320983\n",
       "Name: diagnosis_code, dtype: float64"
      ]
     },
     "execution_count": 37,
     "metadata": {},
     "output_type": "execute_result"
    }
   ],
   "source": [
    "df_ready[df_ready.columns[:]].corr()['diagnosis_code'][0:30]"
   ]
  },
  {
   "cell_type": "raw",
   "metadata": {},
   "source": [
    "The diagnosis seems to have a high correlation with 'perimeter_sd_error', 'concavity_worst', 'concave_points_sd_error' and 'fractal_dimension_sd_error'.\n",
    "The diagnosis seems to have a medium correlation with 'radius_mean', 'radius_worst', 'texture_mean', 'perimeter_mean', 'concavity_points_worst', "
   ]
  },
  {
   "cell_type": "markdown",
   "metadata": {},
   "source": [
    "## Modeling"
   ]
  },
  {
   "cell_type": "markdown",
   "metadata": {},
   "source": [
    "### Build a model to predict the malignant tumors."
   ]
  },
  {
   "cell_type": "raw",
   "metadata": {},
   "source": [
    "Use at least two classification techniques; compare and contrast the advantages and disadvantages of each.\n",
    "Identify how you would control for overfitting in each classification technique.\n",
    "Evaluate the performance of each model.\n",
    "In each model, identify the most important predictive variables and explain how you identified them."
   ]
  },
  {
   "cell_type": "code",
   "execution_count": 69,
   "metadata": {},
   "outputs": [
    {
     "name": "stdout",
     "output_type": "stream",
     "text": [
      "(568, 30)\n",
      "(568,)\n"
     ]
    }
   ],
   "source": [
    "X = df_ready.drop(labels = ['diagnosis_code'], axis=1)\n",
    "Y = df_ready[\"diagnosis_code\"]\n",
    "cols = list(X.columns)\n",
    "print(X.shape)\n",
    "print(Y.shape)"
   ]
  },
  {
   "cell_type": "code",
   "execution_count": 60,
   "metadata": {},
   "outputs": [
    {
     "name": "stdout",
     "output_type": "stream",
     "text": [
      "                      Specs          Score\n",
      "23     concave_points_worst  111784.794951\n",
      "3              texture_mean   53859.312568\n",
      "13      smoothness_sd_error    8646.030808\n",
      "22  concave_points_sd_error    3631.288627\n",
      "2              radius_worst    2002.534881\n",
      "20          concavity_worst     488.172350\n",
      "0               radius_mean     265.194333\n",
      "12          smoothness_mean     246.367387\n",
      "21      concave_points_mean     177.253229\n",
      "1           radius_sd_error      96.259611\n"
     ]
    }
   ],
   "source": [
    "#apply SelectKBest class to extract top 10 best features\n",
    "bestfeatures = SelectKBest(score_func=chi2, k=10)\n",
    "fit = bestfeatures.fit(X,Y)\n",
    "df_scores = pd.DataFrame(fit.scores_)\n",
    "df_columns = pd.DataFrame(X.columns)\n",
    "#concat two dataframes for better visualization \n",
    "feature_Scores = pd.concat([df_columns,df_scores],axis=1)\n",
    "feature_Scores.columns = ['Specs','Score']  #naming the dataframe columns\n",
    "print(feature_Scores.nlargest(10,'Score'))  #print 10 best features"
   ]
  },
  {
   "cell_type": "code",
   "execution_count": 39,
   "metadata": {},
   "outputs": [],
   "source": [
    "X_train, X_test, Y_train, Y_test = train_test_split(X, Y, test_size = 0.20, random_state = 42, shuffle=True)"
   ]
  },
  {
   "cell_type": "code",
   "execution_count": 40,
   "metadata": {},
   "outputs": [],
   "source": [
    "sc = StandardScaler()\n",
    "X_train = sc.fit_transform(X_train)\n",
    "X_test = sc.transform(X_test)"
   ]
  },
  {
   "cell_type": "markdown",
   "metadata": {},
   "source": [
    "#### Logistic Regression"
   ]
  },
  {
   "cell_type": "raw",
   "metadata": {},
   "source": [
    "Advantages: Logistic regression works very similar to linear regression, but with a binomial response variable. The main advantage is to avoid confounding effects by analyzing the association of all variables together. It is a widely used technique because it is very efficient, does not require too many computational resources, it’s highly interpretable, it doesn’t require input features to be scaled, it doesn’t require any tuning, it’s easy to regularize, and it outputs well-calibrated predicted probabilities.\n",
    "\n",
    "Disavantages: A disadvantage of it is that we can’t solve non-linear problems with logistic regression since it’s decision surface is linear. It is also an Algorithm that is known for its vulnerability to overfitting.\n",
    "\n",
    "How to control overfitting: To solve the problem of overfitting in our model we need to increase flexibility of our model. But too much of  flexibility can also spoil our model, to increase flexibility we can use regularization technique. We can also remove high correlated features, scale & normalized the data, over sample or under sample the data, etc.\n"
   ]
  },
  {
   "cell_type": "code",
   "execution_count": 41,
   "metadata": {},
   "outputs": [
    {
     "data": {
      "text/plain": [
       "LogisticRegression(C=1.0, class_weight=None, dual=False, fit_intercept=True,\n",
       "                   intercept_scaling=1, l1_ratio=None, max_iter=100,\n",
       "                   multi_class='auto', n_jobs=None, penalty='l2',\n",
       "                   random_state=0, solver='lbfgs', tol=0.0001, verbose=0,\n",
       "                   warm_start=False)"
      ]
     },
     "execution_count": 41,
     "metadata": {},
     "output_type": "execute_result"
    }
   ],
   "source": [
    "LR = LogisticRegression(random_state = 0)\n",
    "LR.fit(X_train, Y_train)"
   ]
  },
  {
   "cell_type": "code",
   "execution_count": 52,
   "metadata": {},
   "outputs": [
    {
     "name": "stdout",
     "output_type": "stream",
     "text": [
      "Accuracy of LR classifier on training set: 0.99\n",
      "Accuracy of LR classifier on test set: 0.96\n",
      "MAE of LR classifier on test set: 0.04\n",
      "[[67  1]\n",
      " [ 3 43]]\n",
      "              precision    recall  f1-score   support\n",
      "\n",
      "         0.0       0.96      0.99      0.97        68\n",
      "         1.0       0.98      0.93      0.96        46\n",
      "\n",
      "    accuracy                           0.96       114\n",
      "   macro avg       0.97      0.96      0.96       114\n",
      "weighted avg       0.97      0.96      0.96       114\n",
      "\n"
     ]
    }
   ],
   "source": [
    "print('Accuracy of LR classifier on training set: {:.2f}'.format(LR.score(X_train, Y_train)))\n",
    "print('Accuracy of LR classifier on test set: {:.2f}'.format(LR.score(X_test, Y_test)))\n",
    "Y_pred=LR.predict(X_test)\n",
    "print('MAE of LR classifier on test set: {:.2f}'.format(mean_absolute_error(Y_test, Y_pred)))\n",
    "print(confusion_matrix(Y_test, Y_pred))\n",
    "print(classification_report(Y_test, Y_pred))"
   ]
  },
  {
   "cell_type": "code",
   "execution_count": 70,
   "metadata": {},
   "outputs": [
    {
     "name": "stdout",
     "output_type": "stream",
     "text": [
      "[ True False False False False False False False False False  True False\n",
      " False  True False False False False False False  True  True  True  True\n",
      "  True False  True  True False False]\n",
      "[ 1 10  9  5 17 16  8  3 19  2  1 14  6  1 12  7 20 15 11 13  1  1  1  1\n",
      "  1 21  1  1  4 18]\n",
      "Index(['radius_mean', 'area_sd_error', 'smoothness_sd_error',\n",
      "       'concavity_worst', 'concave_points_mean', 'concave_points_sd_error',\n",
      "       'concave_points_worst', 'symmetry_mean', 'symmetry_worst',\n",
      "       'fractal_dimension_mean'],\n",
      "      dtype='object')\n"
     ]
    }
   ],
   "source": [
    "#Initializing RFE model\n",
    "rfe = RFE(LR, 10)\n",
    "rfe = rfe.fit(X_train, Y_train)\n",
    "print(rfe.support_)\n",
    "print(rfe.ranking_)            \n",
    "temp = pd.Series(rfe.support_,index = cols)\n",
    "selected_features_rfe = temp[temp==True].index\n",
    "print(selected_features_rfe)"
   ]
  },
  {
   "cell_type": "raw",
   "metadata": {},
   "source": [
    "Most of these categorical features have previously been identify in the EDA. "
   ]
  },
  {
   "cell_type": "code",
   "execution_count": 63,
   "metadata": {},
   "outputs": [
    {
     "name": "stdout",
     "output_type": "stream",
     "text": [
      "[[ 0.6614947   0.45364589  0.61803061  0.62521571  0.20856896 -0.30271546\n",
      "   0.70645012  0.78661459  0.18663082 -0.54893472  1.07002843 -0.32624526\n",
      "   0.63185071  0.9384662   0.36131169 -0.71474797  0.0590984   0.25675294\n",
      "  -0.49406066 -0.51304398  0.94223052  1.50985337  0.76467447  0.89622693\n",
      "   0.8852356  -0.01928226  1.05208361  0.79862057  0.90325997  0.20232568]]\n"
     ]
    }
   ],
   "source": [
    "print(LR.coef_)"
   ]
  },
  {
   "cell_type": "markdown",
   "metadata": {},
   "source": [
    "#### DecisionTreeClassifier "
   ]
  },
  {
   "cell_type": "raw",
   "metadata": {},
   "source": [
    "Advantages: Compared to other algorithms decision trees requires less effort for data preparation during pre-processing. A decision tree does not require normalization of data. A decision tree does not require scaling of data as well. Missing values in the data also does NOT affect the process of building decision tree to any considerable extent. A Decision trees model is very intuitive and easy to explain to technical teams as well as stakeholders.\n",
    "\n",
    "Disavantages:A small change in the data can cause a large change in the structure of the decision tree causing instability. For a Decision tree sometimes calculation can go far more complex compared to other algorithms. Decision tree often involves higher time to train the model. Decision tree training is relatively expensive as complexity and time taken is more. Decision Tree algorithm is inadequate for applying regression and predicting continuous values.\n",
    "\n",
    "How to control overfitting: Pre-pruning that stop growing the tree earlier, before it perfectly classifies the training set. Post-pruning that allows the tree to perfectly classify the training set, and then post prune the tree. We can also remove high correlated features, scale & normalized the data, over sample or under sample the data, etc.\n"
   ]
  },
  {
   "cell_type": "code",
   "execution_count": 51,
   "metadata": {},
   "outputs": [
    {
     "data": {
      "text/plain": [
       "DecisionTreeClassifier(ccp_alpha=0.0, class_weight=None, criterion='entropy',\n",
       "                       max_depth=None, max_features=None, max_leaf_nodes=None,\n",
       "                       min_impurity_decrease=0.0, min_impurity_split=None,\n",
       "                       min_samples_leaf=1, min_samples_split=2,\n",
       "                       min_weight_fraction_leaf=0.0, presort='deprecated',\n",
       "                       random_state=0, splitter='best')"
      ]
     },
     "execution_count": 51,
     "metadata": {},
     "output_type": "execute_result"
    }
   ],
   "source": [
    "DT = DecisionTreeClassifier(criterion = 'entropy', random_state = 0)\n",
    "DT.fit(X_train, Y_train)"
   ]
  },
  {
   "cell_type": "code",
   "execution_count": 54,
   "metadata": {},
   "outputs": [
    {
     "name": "stdout",
     "output_type": "stream",
     "text": [
      "Accuracy of DT classifier on training set: 1.00\n",
      "Accuracy of DT classifier on test set: 0.91\n",
      "MAE of DT classifier on test set: 0.09\n",
      "[[63  5]\n",
      " [ 5 41]]\n",
      "              precision    recall  f1-score   support\n",
      "\n",
      "         0.0       0.93      0.93      0.93        68\n",
      "         1.0       0.89      0.89      0.89        46\n",
      "\n",
      "    accuracy                           0.91       114\n",
      "   macro avg       0.91      0.91      0.91       114\n",
      "weighted avg       0.91      0.91      0.91       114\n",
      "\n"
     ]
    }
   ],
   "source": [
    "print('Accuracy of DT classifier on training set: {:.2f}'.format(DT.score(X_train, Y_train)))\n",
    "print('Accuracy of DT classifier on test set: {:.2f}'.format(DT.score(X_test, Y_test)))\n",
    "Y_pred=DT.predict(X_test)\n",
    "print('MAE of DT classifier on test set: {:.2f}'.format(mean_absolute_error(Y_test, Y_pred)))\n",
    "print(confusion_matrix(Y_test, Y_pred))\n",
    "print(classification_report(Y_test, Y_pred))"
   ]
  },
  {
   "cell_type": "code",
   "execution_count": 72,
   "metadata": {},
   "outputs": [
    {
     "name": "stdout",
     "output_type": "stream",
     "text": [
      "[False False False False  True False False False False False False False\n",
      " False False False False False False False  True False  True  True  True\n",
      "  True  True  True  True  True False]\n",
      "[21 19 18 17  1 10  7  9  6  5  3  2  4 11 13 20 15 16 14  1  8  1  1  1\n",
      "  1  1  1  1  1 12]\n",
      "Index(['texture_sd_error', 'concavity_sd_error', 'concave_points_mean',\n",
      "       'concave_points_sd_error', 'concave_points_worst', 'symmetry_mean',\n",
      "       'symmetry_sd_error', 'symmetry_worst', 'fractal_dimension_mean',\n",
      "       'fractal_dimension_sd_error'],\n",
      "      dtype='object')\n"
     ]
    }
   ],
   "source": [
    "#Initializing RFE model\n",
    "rfe = RFE(DT, 10)\n",
    "rfe = rfe.fit(X_train, Y_train)\n",
    "print(rfe.support_)\n",
    "print(rfe.ranking_)            \n",
    "temp = pd.Series(rfe.support_,index = cols)\n",
    "selected_features_rfe = temp[temp==True].index\n",
    "print(selected_features_rfe)"
   ]
  },
  {
   "cell_type": "markdown",
   "metadata": {},
   "source": [
    "## Explanation"
   ]
  },
  {
   "cell_type": "markdown",
   "metadata": {},
   "source": [
    "### To Technical Audiences"
   ]
  },
  {
   "cell_type": "raw",
   "metadata": {},
   "source": [
    "Explain the limitations of your analysis and identify possible further steps you could take."
   ]
  },
  {
   "cell_type": "raw",
   "metadata": {},
   "source": [
    "We have studied two methods Logistic Regression(LR) and Decision Tree classifer (DT). \n",
    "The f1 score for is 0.96 for LR and 0.91 for DT. \n",
    "Because we didn't remove high correlated features, it is possible that our model is overfitting. It is good practice to keep the obtained result and compare while conducting multiple iterations and changing some parameters. Among the thing we could do: oversampling, removing the outliners, normalize, scaling, getting more data, etc.\n",
    "Conducting cross-validation is also another good practice as well as doing a hyperparamters analyzis with pipeline and gridsearch method.\n",
    "It is also worth noticing that in the case of cancer diagnosis it is preferable to have False Positive than False Negative. In case of a False Positive, with further analysis by a specialist an automated diagnosis could be conducted to verify each Positive cases. But having a False Negative, means that the specialist might not look at the diagnosis results, this could have a impact for the patient who will be developping cancer without realizing it."
   ]
  },
  {
   "cell_type": "code",
   "execution_count": null,
   "metadata": {},
   "outputs": [],
   "source": []
  },
  {
   "cell_type": "markdown",
   "metadata": {},
   "source": [
    "### To Non-Technical Audiences"
   ]
  },
  {
   "cell_type": "raw",
   "metadata": {},
   "source": [
    "Write a short summary of your analysis, explaining how your model works and how it performs.\n",
    "Briefly explain the factors that contributed to malignant vs benign tumor identification."
   ]
  },
  {
   "cell_type": "raw",
   "metadata": {},
   "source": [
    "We were able to demonstrate that we can predict with high accuracy if a cells is malignant or benign.\n",
    "Our initial predictions reach 96% accuracy while using Logistic Regression. While Decision Tree is a method that is easy to interprete and explained, the obtained results show a reduced performance to detect false positive and false negative. \n",
    "As mentioned above, we have identify some key features for the diagnosis of malignant cancer cells, this can help the health specialist to develop new diagnosis methods and help to further refine their research in the cancer detection.\n",
    "We also recommend combining machine learning and predictive analysis with other methods and always have a human in the loop."
   ]
  },
  {
   "cell_type": "markdown",
   "metadata": {},
   "source": [
    "# DSI Instructor Task: Part 2"
   ]
  },
  {
   "cell_type": "raw",
   "metadata": {},
   "source": [
    "https://gist.github.com/jeff-boykin/e5d82e79a3de29813ff745496e6cb5c1"
   ]
  },
  {
   "cell_type": "markdown",
   "metadata": {},
   "source": [
    "## Sample Student Submissions"
   ]
  },
  {
   "cell_type": "markdown",
   "metadata": {},
   "source": [
    "### Code"
   ]
  },
  {
   "cell_type": "raw",
   "metadata": {},
   "source": [
    "Feel free to comment on style, library usage, or other improvements."
   ]
  },
  {
   "cell_type": "markdown",
   "metadata": {},
   "source": [
    "### Methodology"
   ]
  },
  {
   "cell_type": "raw",
   "metadata": {},
   "source": [
    "Feel free to comment on the student's data setup, modeling methodology, and model evaluation."
   ]
  },
  {
   "cell_type": "markdown",
   "metadata": {},
   "source": [
    "### Conceptual Understanding"
   ]
  },
  {
   "cell_type": "raw",
   "metadata": {},
   "source": [
    "Finally, feel free to add any suggestions or takeaways on how the student could continue to improve their understanding of these concepts."
   ]
  },
  {
   "cell_type": "markdown",
   "metadata": {},
   "source": [
    "#### Student Sample 1"
   ]
  },
  {
   "cell_type": "code",
   "execution_count": 274,
   "metadata": {},
   "outputs": [
    {
     "name": "stdout",
     "output_type": "stream",
     "text": [
      "[ 0.02274323 -0.02324406 -0.21940818 -0.03234682 -0.0590898 ]\n",
      "-0.06226912580167134\n"
     ]
    }
   ],
   "source": [
    "#!/usr/bin/env python\n",
    "\n",
    "import pandas as pd\n",
    "# import numpy as np\n",
    "# you currently don't need numpy package\n",
    "# from sklearn import LinearRegression \n",
    "# cannot import 'Linear Regression' from sklearn try from sklearn.linear_model import LinearRegression\n",
    "from sklearn.linear_model import LinearRegression\n",
    "# from sklearn.cross_validation import cross_val_score \n",
    "# there is no module 'sklearn.cross_validation' try from sklearn.model_selection import cross_val_score\n",
    "from sklearn.model_selection import cross_val_score\n",
    "\n",
    "# Load data\n",
    "# d = pd.read_csv('../data/train.csv') \n",
    "# there was two dots ('../'), try with one ('./'), \n",
    "# also remane 'd' to 'data' for consistency with the rest of your code\n",
    "data = pd.read_csv('./data/train.csv')\n",
    "\n",
    "# Setup data for prediction\n",
    "x1 = data.SalaryNormalized\n",
    "x2 = pd.get_dummies(data.ContractType) #Convert categorical variable into dummy/indicator variables.\n",
    "# what is your target data? 'x1' or 'x2', to avoid confusion, it is best to use 'y' and 'x'\n",
    "\n",
    "# Setup model\n",
    "model = LinearRegression()\n",
    "\n",
    "# Evaluate model\n",
    "# from sklearn.cross_validation import cross_val_score \n",
    "# you had the same line above, just one is enough\n",
    "# from sklearn.cross_validation import train_test_split \n",
    "# you are not using 'train_test_split' at the moment\n",
    "# although if you wish to import this package you should try: from sklearn.model_selection import train_test_split\n",
    "\n",
    "# scores = cross_val_score(model, x2, x1, cv=1, scoring='mean_absolute_error') \n",
    "# cv should have a value higher than 1, especially if you are calculating a mean later\n",
    "# the selected scoring method 'mean_absolute_error' is invalid, you do not need this evaluation\n",
    "scores = cross_val_score(model, x2, x1, cv=5)\n",
    "print(scores) # you might want to see the 'scores values' before the mean\n",
    "print(scores.mean())"
   ]
  },
  {
   "cell_type": "markdown",
   "metadata": {},
   "source": [
    "#### Student Sample 2"
   ]
  },
  {
   "cell_type": "code",
   "execution_count": 277,
   "metadata": {},
   "outputs": [
    {
     "name": "stdout",
     "output_type": "stream",
     "text": [
      "-0.06226912580167134\n"
     ]
    }
   ],
   "source": [
    "#!/usr/bin/env python\n",
    "\n",
    "import pandas as pd\n",
    "# import numpy as np\n",
    "# you currently don't need numpy package\n",
    "from sklearn.linear_model import LinearRegression\n",
    "# from sklearn.cross_validation import cross_val_score \n",
    "# there is no module 'sklearn.cross_validation' try from sklearn.model_selection import cross_val_score\n",
    "from sklearn.model_selection import cross_val_score\n",
    "\n",
    "# Load data\n",
    "# data = pd.read_csv('../data/train.csv')\n",
    "# there was two dots ('../'), try with one ('./'), \n",
    "data = pd.read_csv('./data/train.csv')\n",
    "\n",
    "\n",
    "# Setup data for prediction\n",
    "y = data.SalaryNormalized\n",
    "X = pd.get_dummies(data.ContractType) #Convert categorical variable into dummy/indicator variables.\n",
    "\n",
    "\n",
    "# Setup model\n",
    "model = LinearRegression()\n",
    "\n",
    "# Evaluate model\n",
    "# scores = cross_val_score(model, X, y, cv=5, scoring='mean_absolute_error')\n",
    "# the selected scoring method 'mean_absolute_error' is invalid, what are you trying to do here?\n",
    "scores = cross_val_score(model, X, y, cv=5)\n",
    "print(scores.mean())"
   ]
  },
  {
   "cell_type": "raw",
   "metadata": {},
   "source": [
    "For both students:\n",
    "\n",
    "You did not fit, scale your model;\n",
    "You did not split into Training and testing data;\n",
    "Perhaps you should try getting the Accuracy and AUC of your model;\n",
    "Perhaps you should try exploring your data (EDA) a little bit before jumping directly to the model:\n",
    "    Have you checked if there is any missing values in the dataset?\n",
    "    Have you checked if the data has any outliers?\n",
    "    Have you checked the types of the features? Maybe you need to convert some string into float or integer?\n",
    "    Have you checked if the column features show high correlation between each other?\n",
    "Perhaps you should try to comment a bit more your each of your steps and what you are trying to accomplish;\n",
    "\n",
    "Here are some material to review the concepts:\n",
    "refer to: https://scikit-learn.org/stable/modules/generated/sklearn.metrics.mean_absolute_error.html for more knowledge on mean absolute error\n",
    "refer to: https://scikit-learn.org/stable/modules/cross_validation.html for more knowledge on cross_val_score\n",
    "refer to: https://scikit-learn.org/stable/modules/generated/sklearn.linear_model.LinearRegression.html for more knowledge on the regression technique\n",
    "refer to: https://pandas.pydata.org/pandas-docs/stable/reference/api/pandas.get_dummies.html for the conversion of variables\n",
    "refer to: https://scikit-learn.org/stable/modules/generated/sklearn.model_selection.train_test_split.html for the train_test_split method"
   ]
  },
  {
   "cell_type": "code",
   "execution_count": null,
   "metadata": {},
   "outputs": [],
   "source": []
  },
  {
   "cell_type": "code",
   "execution_count": null,
   "metadata": {},
   "outputs": [],
   "source": []
  }
 ],
 "metadata": {
  "kernelspec": {
   "display_name": "Python 3",
   "language": "python",
   "name": "python3"
  },
  "language_info": {
   "codemirror_mode": {
    "name": "ipython",
    "version": 3
   },
   "file_extension": ".py",
   "mimetype": "text/x-python",
   "name": "python",
   "nbconvert_exporter": "python",
   "pygments_lexer": "ipython3",
   "version": "3.7.3"
  }
 },
 "nbformat": 4,
 "nbformat_minor": 2
}
